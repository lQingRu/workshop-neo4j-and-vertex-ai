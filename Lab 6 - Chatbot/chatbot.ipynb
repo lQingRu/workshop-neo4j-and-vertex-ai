{
 "cells": [
  {
   "cell_type": "markdown",
   "id": "62d8979e",
   "metadata": {},
   "source": [
    "# Chatbot\n",
    "In this notebook, we'll build a chatbot.  The chatbot interface will use gradio.  Underlying the chatbot is the Neo4j knowledge graph we built in previous labs.  The chatbot uses generative AI and langchain.  We take a natural language question, convert it to Neo4j Cypher using generative AI and run that against the database.  We take the response from the database and use generative AI again to convert that back to natural language before presenting it to the user."
   ]
  },
  {
   "cell_type": "markdown",
   "id": "9ea81aba-c3e5-435b-9a9a-86d0a65da844",
   "metadata": {},
   "source": [
    "## Base Example Without Grounding\n",
    "Before grounding with the Neo4j, let's setup up a baseline that just uses an LLM to answer questions."
   ]
  },
  {
   "cell_type": "code",
   "execution_count": 3,
   "id": "6b0d45b7-1406-4454-8811-67a2b351c7ec",
   "metadata": {
    "tags": []
   },
   "outputs": [],
   "source": [
    "from langchain_google_vertexai import VertexAI\n",
    "\n",
    "base_chain = VertexAI(model_name='gemini-1.0-pro-002', max_output_tokens=2048, temperature=0)"
   ]
  },
  {
   "cell_type": "markdown",
   "id": "10e6d342-e9dc-4533-955e-601e181011ae",
   "metadata": {},
   "source": [
    "We can now ask a simple finance question."
   ]
  },
  {
   "cell_type": "code",
   "execution_count": 4,
   "id": "f933a2d9-53fd-41df-8b5a-248885b0dbda",
   "metadata": {
    "tags": []
   },
   "outputs": [
    {
     "name": "stdout",
     "output_type": "stream",
     "text": [
      "Final answer: ## Top 10 Investments for Rempart\n",
      "\n",
      "Rempart is a French company specializing in the design, manufacture, and sale of security and defense equipment. The company's products are used by military and law enforcement agencies around the world.\n",
      "\n",
      "Here are the top 10 investments for Rempart:\n",
      "\n",
      "**1. Research and development:** Rempart should continue to invest in research and development to stay ahead of the competition and develop new and innovative products. This could include investing in new technologies such as artificial intelligence and robotics.\n",
      "\n",
      "**2. Marketing and sales:** Rempart should invest in marketing and sales to increase brand awareness and generate new leads. This could include attending trade shows, developing a strong online presence, and hiring experienced sales staff.\n",
      "\n",
      "**3. Manufacturing:** Rempart should invest in its manufacturing facilities to improve efficiency and quality. This could include investing in new equipment, automating processes, and improving quality control.\n",
      "\n",
      "**4. Customer service:** Rempart should invest in customer service to ensure that its customers are satisfied with its products and services. This could include providing training to customer service staff, developing a customer loyalty program, and offering extended warranties.\n",
      "\n",
      "**5. Human resources:** Rempart should invest in its human resources to attract and retain top talent. This could include offering competitive salaries and benefits, providing opportunities for professional development, and creating a positive work environment.\n",
      "\n",
      "**6. Sustainability:** Rempart should invest in sustainability initiatives to reduce its environmental impact. This could include investing in renewable energy sources, reducing waste, and developing eco-friendly products.\n",
      "\n",
      "**7. Cybersecurity:** Rempart should invest in cybersecurity to protect its data and systems from cyberattacks. This could include investing in firewalls, intrusion detection systems, and data encryption.\n",
      "\n",
      "**8. Compliance:** Rempart should invest in compliance to ensure that it meets all applicable laws and regulations. This could include hiring a compliance officer, developing a compliance program, and conducting regular audits.\n",
      "\n",
      "**9. Partnerships:** Rempart should invest in partnerships with other companies to expand its reach and market share. This could include forming joint ventures, strategic alliances, and technology partnerships.\n",
      "\n",
      "**10. Acquisitions:** Rempart should consider acquisitions to expand its product portfolio and enter new markets. This could include acquiring companies with complementary products or technologies.\n",
      "\n",
      "By investing in these areas, Rempart can continue to grow its business and achieve its long-term goals.\n",
      "\n",
      "**Please note:** This is just a general overview of potential investments for Rempart. The specific investments that are right for the company will depend on its individual circumstances and goals.\n"
     ]
    }
   ],
   "source": [
    "base_response = base_chain.invoke(\"\"\"What are the top 10 investments for Rempart?\"\"\")\n",
    "print(f\"Final answer: {base_response}\")"
   ]
  },
  {
   "cell_type": "markdown",
   "id": "01f64a21-8347-4eec-a83a-8044f824a3d8",
   "metadata": {},
   "source": [
    "While this answer may seem reasonable, we have no real way to know how the LLM came it with it, or where it was sourced from.\n",
    "\n",
    "Here is a more complicated example where we expect the LLM to understand some more specific terminology."
   ]
  },
  {
   "cell_type": "code",
   "execution_count": 5,
   "id": "ae43c396-39d5-4511-bc3d-a56a1880afc8",
   "metadata": {
    "tags": []
   },
   "outputs": [
    {
     "name": "stdout",
     "output_type": "stream",
     "text": [
      "Final answer: ## FAANG Stock Ownership by Managers\n",
      "\n",
      "Here's a breakdown of FAANG stock ownership by managers as of November 2023:\n",
      "\n",
      "**Meta (Facebook):**\n",
      "\n",
      "* **Mark Zuckerberg:** Owns 351 million shares, representing 13.4% of the company.\n",
      "* **Sheryl Sandberg:** Owns 17.5 million shares, representing 0.6% of the company.\n",
      "* **David Wehner:** Owns 1.5 million shares, representing 0.05% of the company.\n",
      "\n",
      "**Apple:**\n",
      "\n",
      "* **Tim Cook:** Owns 847,969 shares, representing 0.02% of the company.\n",
      "* **Arthur Levinson:** Owns 143,227 shares, representing 0.004% of the company.\n",
      "* **Luca Maestri:** Owns 125,000 shares, representing 0.003% of the company.\n",
      "\n",
      "**Amazon:**\n",
      "\n",
      "* **Jeff Bezos:** Owns 10% of the company.\n",
      "* **Andy Jassy:** Owns 64,748 shares, representing 0.002% of the company.\n",
      "* **Brian Olsavsky:** Owns 48,623 shares, representing 0.001% of the company.\n",
      "\n",
      "**Netflix:**\n",
      "\n",
      "* **Reed Hastings:** Owns 1.8 million shares, representing 1.9% of the company.\n",
      "* **Ted Sarandos:** Owns 570,000 shares, representing 0.6% of the company.\n",
      "* **Greg Peters:** Owns 280,000 shares, representing 0.3% of the company.\n",
      "\n",
      "**Alphabet (Google):**\n",
      "\n",
      "* **Larry Page:** Owns 25.5 million shares of Class A and 25.5 million shares of Class B, representing 6.1% of the company.\n",
      "* **Sergey Brin:** Owns 25.5 million shares of Class A and 25.5 million shares of Class B, representing 6.1% of the company.\n",
      "* **Sundar Pichai:** Owns 3.2 million shares of Class A and 3.2 million shares of Class B, representing 0.8% of the company.\n",
      "\n",
      "**Please note:** This information is based on publicly available data as of November 2023. Share ownership may have changed since then. \n",
      "\n",
      "## Additional Information\n",
      "\n",
      "* You can find more information about FAANG stock ownership by managers on the companies' websites or in their SEC filings.\n",
      "* It is important to note that stock ownership does not necessarily reflect the level of control that a manager has over a company.\n",
      "* Other factors, such as voting rights and board membership, can also play a role in determining a manager's influence.\n"
     ]
    }
   ],
   "source": [
    "base_response = base_chain.invoke(\"\"\"Which managers own FAANG stocks?\"\"\")\n",
    "print(f\"Final answer: {base_response}\")"
   ]
  },
  {
   "cell_type": "markdown",
   "id": "533cf10e-45f4-427d-bda6-a7ae4c706d92",
   "metadata": {},
   "source": [
    "In this case, it looks like the LLM understands the ubiquitous acronym FAANG but, unsurprisingly, the results indicate it doesn't understand manager within the context of our data model.  In your use case, you may have lots of specific terminology/ontology like this that you would need a chatbot to understand."
   ]
  },
  {
   "cell_type": "markdown",
   "id": "4a087cb5-f99d-4c7c-bdac-14ec8cd411cb",
   "metadata": {},
   "source": [
    "## Grounding LLMs with Neo4j\n",
    "Now let's create a chatbot that is grounded with Neo4j. Below is the pattern we will follow with LangChain:\n",
    "\n",
    "![](images/langchain.png)"
   ]
  },
  {
   "cell_type": "markdown",
   "id": "c044359a",
   "metadata": {},
   "source": [
    "## Cypher Generation\n",
    "We have to use a prompt template that: \n",
    "1. Clearly states what schema to use \n",
    "2. Provides principles the chatbot should follow in generating responses\n",
    "3. Demonstrates few-shot examples to help the chatbot be more accurate in its query generation."
   ]
  },
  {
   "cell_type": "code",
   "execution_count": 6,
   "id": "05e5c4a7-9821-4fe8-9b26-49dc96d89103",
   "metadata": {
    "tags": []
   },
   "outputs": [],
   "source": [
    "CYPHER_GENERATION_TEMPLATE = \"\"\"You are an expert Neo4j Cypher translator who understands the question in english and convert to Cypher strictly based on the Neo4j Schema provided and following the instructions below:\n",
    "1. Generate Cypher query compatible ONLY for Neo4j Version 5\n",
    "2. Do not use EXISTS, SIZE, CONTAINS ANY keywords in the cypher. Use alias when using the WITH keyword\n",
    "3. Please do not use same variable names for different nodes and relationships in the query.\n",
    "4. Use only Nodes and relationships mentioned in the schema\n",
    "5. Always enclose the Cypher output inside 3 backticks\n",
    "6. Always do a case-insensitive and fuzzy search for any properties related search. Eg: to search for a Company name use `toLower(c.name) contains 'neo4j'`\n",
    "7. Candidate node is synonymous to Manager\n",
    "8. Always use aliases to refer the node in the query\n",
    "9. 'Answer' is NOT a Cypher keyword. Answer should never be used in a query.\n",
    "10. Please generate only one Cypher query per question. \n",
    "11. Cypher is NOT SQL. So, do not mix and match the syntaxes.\n",
    "12. Every Cypher query always starts with a MATCH keyword.\n",
    "13. Always use `IN` keyword instead of `CONTAINS ANY`\n",
    "\n",
    "Schema:\n",
    "{schema}\n",
    "Samples:\n",
    "Question: Which fund manager owns most shares? What is the total portfolio value?\n",
    "Answer: MATCH (m:Manager) -[o:OWNS]-> (c:Company) RETURN m.managerName as manager, sum(distinct o.shares) as ownedShares, sum(o.value) as portfolioValue ORDER BY ownedShares DESC LIMIT 10\n",
    "\n",
    "Question: Which fund manager owns most companies? How many shares?\n",
    "Answer: MATCH (m:Manager) -[o:OWNS]-> (c:Company) RETURN m.managerName as manager, count(distinct c) as ownedCompanies, sum(distinct o.shares) as ownedShares ORDER BY ownedCompanies DESC LIMIT 10\n",
    "\n",
    "Question: What are the top 10 investments for Vanguard?\n",
    "Answer: MATCH (m:Manager) -[o:OWNS]-> (c:Company) WHERE toLower(m.managerName) contains \"vanguard\" RETURN c.companyName as Investment, sum(DISTINCT o.shares) as totalShares, sum(DISTINCT o.value) as investmentValue order by investmentValue desc limit 10\n",
    "\n",
    "Question: What other fund managers are investing in same companies as Vanguard?\n",
    "Answer: MATCH (m1:Manager) -[:OWNS]-> (c1:Company) <-[o:OWNS]- (m2:Manager) WHERE toLower(m1.managerName) contains \"vanguard\" AND elementId(m1) <> elementId(m2) RETURN m2.managerName as manager, sum(DISTINCT o.shares) as investedShares, sum(DISTINCT o.value) as investmentValue ORDER BY investmentValue LIMIT 10\n",
    "\n",
    "Question: What are the top investors for Apple?\n",
    "Answer: MATCH (m1:Manager) -[o:OWNS]-> (c1:Company) WHERE toLower(c1.companyName) contains \"apple\" RETURN distinct m1.managerName as manager, sum(o.value) as totalInvested ORDER BY totalInvested DESC LIMIT 10\n",
    "\n",
    "Question: Which managers own FAANG stocks?\n",
    "Answer: MATCH (m:Manager)-[o:OWNS]->(c:Company) WHERE toLower(c.companyName) IN [\"facebook\", \"amazon\", \"apple\", \"netflix\", \"google\"] RETURN m.managerName AS manager, c.companyName AS company\n",
    "\n",
    "Question: What are the other top investments for fund managers investing in Apple?\n",
    "Answer: MATCH (c1:Company) <-[:OWNS]- (m1:Manager) -[o:OWNS]-> (c2:Company) WHERE toLower(c1.companyName) contains \"apple\" AND elementId(c1) <> elementId(c2) RETURN DISTINCT c2.companyName as company, sum(DISTINCT o.value) as totalInvested, sum(DISTINCT o.shares) as totalShares ORDER BY totalInvested DESC LIMIT 10\n",
    "\n",
    "Question: What are the top investors in the last 3 months?\n",
    "Answer: MATCH (m:Manager) -[o:OWNS]-> (c:Company) WHERE date() > o.reportCalendarOrQuarter > o.reportCalendarOrQuarter - duration({{months:3}}) RETURN distinct m.managerName as manager, sum(o.value) as totalInvested, sum(o.shares) as totalShares ORDER BY totalInvested DESC LIMIT 10\n",
    "\n",
    "Question: Which managers own FAANG stocks?\n",
    "Answer: MATCH (m:Manager)-[o:OWNS]->(c:Company) WHERE toLower(c.companyName) IN [\"facebook\", \"amazon\", \"apple\", \"netflix\", \"google\"] RETURN m.managerName AS manager, c.companyName AS company\n",
    "\n",
    "Question: What are top investments in last 6 months for Vanguard?\n",
    "Answer: MATCH (m:Manager) -[o:OWNS]-> (c:Company) WHERE toLower(m.managerName) contains \"vanguard\" AND date() > o.reportCalendarOrQuarter > date() - duration({{months:6}}) RETURN distinct c.companyName as company, sum(o.value) as totalInvested, sum(o.shares) as totalShares ORDER BY totalInvested DESC LIMIT 10\n",
    "\n",
    "Question: Who are Apple's top investors in last 3 months?\n",
    "Answer: MATCH (m:Manager) -[o:OWNS]-> (c:Company) WHERE toLower(c.companyName) contains \"apple\" AND date() > o.reportCalendarOrQuarter > date() - duration({{months:3}}) RETURN distinct m.managerName as investor, sum(o.value) as totalInvested, sum(o.shares) as totalShares ORDER BY totalInvested DESC LIMIT 10\n",
    "\n",
    "Question: Which fund manager under 200 million has similar investment strategy as Vanguard?\n",
    "Answer: MATCH (m1:Manager) -[o1:OWNS]-> (:Company) <-[o2:OWNS]- (m2:Manager) WHERE toLower(m1.managerName) CONTAINS \"vanguard\" AND elementId(m1) <> elementId(m2) WITH distinct m2 AS m2, sum(distinct o2.value) AS totalVal WHERE totalVal < 200000000 RETURN m2.managerName AS manager, totalVal*0.000001 AS totalVal ORDER BY totalVal DESC LIMIT 10\n",
    "\n",
    "Question: Who are common investors in Apple and Amazon?\n",
    "Answer: MATCH (c1:Company) <-[:OWNS]- (m:Manager) -[:OWNS]-> (c2:Company) WHERE toLower(c1.companyName) contains \"apple\" AND toLower(c2.companyName) CONTAINS \"amazon\" RETURN DISTINCT m.managerName LIMIT 50\n",
    "\n",
    "Question: What are Vanguard's top investments by shares for 2023?\n",
    "Answer: MATCH (m:Manager) -[o:OWNS]-> (c:Company) WHERE toLower(m.managerName) CONTAINS \"vanguard\" AND date({{year:2023}}) = date.truncate('year',o.reportCalendarOrQuarter) RETURN c.companyName AS investment, sum(o.value) AS totalValue ORDER BY totalValue DESC LIMIT 10\n",
    "\n",
    "Question: What are Vanguard's top investments by value for 2023?\n",
    "Answer: MATCH (m:Manager) -[o:OWNS]-> (c:Company) WHERE toLower(m.managerName) CONTAINS \"vanguard\" AND date({{year:2023}}) = date.truncate('year',o.reportCalendarOrQuarter) RETURN c.companyName AS investment, sum(o.shares) AS totalShares ORDER BY totalShares DESC LIMIT 10\n",
    "\n",
    "Question: {question}\n",
    "Answer: \n",
    "\"\"\""
   ]
  },
  {
   "cell_type": "markdown",
   "id": "d09e46b3",
   "metadata": {},
   "source": [
    "Now let’s create a LangChain prompt template.  \n",
    "\n",
    "This template defines the parameter inputs for the prompt sent to the Cypher generation bot.  In our example, the inputs will be schema and question.  The question comes from the end user.  The LangChain GraphCypherQAChain automatically inserts the schema via a built-in method to Neo4jGraph."
   ]
  },
  {
   "cell_type": "code",
   "execution_count": 7,
   "id": "86addda3",
   "metadata": {
    "tags": []
   },
   "outputs": [],
   "source": [
    "from langchain.prompts.prompt import PromptTemplate\n",
    "\n",
    "CYPHER_GENERATION_PROMPT = PromptTemplate(\n",
    "    input_variables=['schema','question'], validate_template=True, template=CYPHER_GENERATION_TEMPLATE\n",
    ")"
   ]
  },
  {
   "cell_type": "markdown",
   "id": "d1f63c46",
   "metadata": {},
   "source": [
    "Provide your Neo4j credentials.  We need the DB conection URL and password.  The username is neo4j by default."
   ]
  },
  {
   "cell_type": "code",
   "execution_count": 8,
   "id": "fdc7bc10",
   "metadata": {
    "tags": []
   },
   "outputs": [],
   "source": [
    "# username is neo4j by default\n",
    "NEO4J_USERNAME = 'neo4j'\n",
    "\n",
    "# You will need to change these to match your credentials\n",
    "NEO4J_URI = 'neo4j+s://7e098dc5.databases.neo4j.io' #Eg 'neo4j+s://ccc5f4f5.databases.neo4j.io'\n",
    "NEO4J_PASSWORD = '19_Kt_bHLte_0F2r4OAqGv1ihz9ciXJfJaav0-hpNrI'"
   ]
  },
  {
   "cell_type": "markdown",
   "id": "180e2e7d",
   "metadata": {},
   "source": [
    "We need to connect to the graph via LangChain."
   ]
  },
  {
   "cell_type": "code",
   "execution_count": 9,
   "id": "6fbc48f5",
   "metadata": {
    "tags": []
   },
   "outputs": [],
   "source": [
    "from langchain_community.graphs import Neo4jGraph\n",
    "\n",
    "graph = Neo4jGraph(\n",
    "    url=NEO4J_URI, \n",
    "    username=NEO4J_USERNAME, \n",
    "    password=NEO4J_PASSWORD\n",
    ")"
   ]
  },
  {
   "cell_type": "code",
   "execution_count": 14,
   "id": "6c928016-1119-49a9-a7c9-594de9b79518",
   "metadata": {
    "tags": []
   },
   "outputs": [
    {
     "data": {
      "text/plain": [
       "'Node properties:\\nManager {managerName: STRING}\\nCompany {companyName: STRING, cusip: STRING}\\nDocument {documentId: STRING, documentType: STRING, seqId: INTEGER, textEmbedding: LIST, text: STRING}\\nRelationship properties:\\nOWNS {reportCalendarOrQuarter: DATE, shares: INTEGER, value: FLOAT}\\nSIMILAR {score: FLOAT}\\nThe relationships:\\n(:Manager)-[:OWNS]->(:Company)\\n(:Manager)-[:SIMILAR]->(:Manager)'"
      ]
     },
     "execution_count": 14,
     "metadata": {},
     "output_type": "execute_result"
    }
   ],
   "source": [
    "graph.schema"
   ]
  },
  {
   "cell_type": "markdown",
   "id": "0a1263e2",
   "metadata": {},
   "source": [
    "We define our `chain` object (specifically a`GraphCypherQAChain`) using two vertex AI LLMs:\n",
    "* [gemini-1.5-flash](https://ai.google.dev/gemini-api/docs/models/gemini#gemini-1.5-flash) to translate user questions to Cypher queries\n",
    "* [gemini-1.5-pro](https://ai.google.dev/gemini-api/docs/models/gemini#gemini-1.5-pro)  to convert Cypher query results back to natural language for human-friendly responses. \n",
    "\n",
    "`GraphCypherQAChain` also takes a ‘Neo4jGraph’ so it can handle the chatbot process end-to-end, from taking the user question and translating to Cypher to executing the query, getting results, translating back to natural language, and returning to the user. \n"
   ]
  },
  {
   "cell_type": "code",
   "execution_count": 10,
   "id": "6f94866b-7729-46a5-85cb-c11fb364eefa",
   "metadata": {
    "tags": []
   },
   "outputs": [],
   "source": [
    "from langchain.chains import GraphCypherQAChain\n",
    "import json\n",
    "\n",
    "chain = GraphCypherQAChain.from_llm(\n",
    "    VertexAI(model_name='gemini-1.5-flash-001', max_output_tokens=2048, temperature=0.0),\n",
    "    graph=graph,\n",
    "    cypher_prompt=CYPHER_GENERATION_PROMPT,\n",
    "    verbose=True,\n",
    "    return_direct=True\n",
    ")\n",
    "\n",
    "def chat(que):\n",
    "    r = chain.invoke(que)\n",
    "    print(r)\n",
    "    llm=VertexAI(model_name='gemini-1.5-pro-001', max_output_tokens=2048, temperature=0.0)\n",
    "    summary_prompt_tpl = f\"\"\"Human: \n",
    "    Fact: {json.dumps(r['result'])}\n",
    "\n",
    "    * Summarise the above fact as if you are answering this question \"{r['query']}\"\n",
    "    * When the result inside fact is not empty, assume the question is valid and the answer is true\n",
    "    * Do not return helpful or extra text or apologies\n",
    "    * Just return summary to the user. DO NOT start with Here is a summary\n",
    "    * List the result in rich text format if there are more than one results\n",
    "    * If there is an empty result inside Facts, do not try to provide your own answer\n",
    "    Assistant:\n",
    "    \"\"\"\n",
    "    return llm.invoke(summary_prompt_tpl)"
   ]
  },
  {
   "cell_type": "markdown",
   "id": "b2d1590f",
   "metadata": {},
   "source": [
    "Below we have a few examples of how we can get answers from the chatbot."
   ]
  },
  {
   "cell_type": "markdown",
   "id": "4ed32736-43f8-4c9c-b90e-69932461bbd3",
   "metadata": {},
   "source": [
    "## Why Ground Your LLM?\n",
    "Recall our base example where we asked for the top 10 Rempart investments?  We got an answer that looked like it may be reasonable, but we couldn't validate it or track sources.  We also asked what managers own FAANG stocks, and for that, we unsurprisingly received the wrong answers for our use case.\n",
    "\n",
    "Let's try again grounding with Neo4j. "
   ]
  },
  {
   "cell_type": "code",
   "execution_count": 10,
   "id": "3a9e6bf9",
   "metadata": {
    "tags": []
   },
   "outputs": [
    {
     "name": "stdout",
     "output_type": "stream",
     "text": [
      "\n",
      "\n",
      "\u001b[1m> Entering new GraphCypherQAChain chain...\u001b[0m\n",
      "Generated Cypher:\n",
      "\u001b[32;1m\u001b[1;3mcypher\n",
      "MATCH (m:Manager)-[o:OWNS]->(c:Company)\n",
      "WHERE toLower(m.managerName) CONTAINS \"rempart\"\n",
      "RETURN c.companyName AS investment, sum(o.value) AS totalValue ORDER BY totalValue DESC LIMIT 10\n",
      "\u001b[0m\n",
      "\n",
      "\u001b[1m> Finished chain.\u001b[0m\n",
      "{'query': 'What are the top 10 investments for Rempart?', 'result': [{'investment': 'Microsoft Corp', 'totalValue': 133620}, {'investment': 'THERMO FISHER SCIENTIFIC', 'totalValue': 130348}, {'investment': 'Costco Wholesale ', 'totalValue': 125544}, {'investment': 'LOWES', 'totalValue': 96688}, {'investment': 'CANADIAN NATIONAL RAILWAY', 'totalValue': 94160}, {'investment': 'BANK OF MONTREAL', 'totalValue': 92496}, {'investment': 'ROPER TECHNOLOGIES', 'totalValue': 89776}, {'investment': 'Johnson & Johnson', 'totalValue': 86360}, {'investment': 'COLGATE PALMOLIVE', 'totalValue': 78988}, {'investment': 'JPMorgan Chase & Co', 'totalValue': 75740}]}\n",
      "Final answer: The top 10 investments for Rempart are:\n",
      "* **Microsoft Corp**: $133,620\n",
      "* **THERMO FISHER SCIENTIFIC**: $130,348\n",
      "* **Costco Wholesale**: $125,544\n",
      "* **LOWES**: $96,688\n",
      "* **CANADIAN NATIONAL RAILWAY**: $94,160\n",
      "* **BANK OF MONTREAL**: $92,496\n",
      "* **ROPER TECHNOLOGIES**: $89,776\n",
      "* **Johnson & Johnson**: $86,360\n",
      "* **COLGATE PALMOLIVE**: $78,988\n",
      "* **JPMorgan Chase & Co**: $75,740 \n",
      "\n"
     ]
    }
   ],
   "source": [
    "r2 = chat(\"\"\"What are the top 10 investments for Rempart?\"\"\")\n",
    "print(f\"Final answer: {r2}\")"
   ]
  },
  {
   "cell_type": "markdown",
   "id": "d65434f3-f818-46ca-9fc8-0daa4a77942b",
   "metadata": {},
   "source": [
    "Notice that this answer is different from our base example, and this time we have the Cypher logic used to obtain the answer from our database. This means that we can trace back how we came up with this answer and make any adjustments to our database or prompt if we need to."
   ]
  },
  {
   "cell_type": "markdown",
   "id": "bd7da574-8c23-4c78-b35f-bb4e86cdb291",
   "metadata": {},
   "source": [
    "Now lets try the FAANG question."
   ]
  },
  {
   "cell_type": "code",
   "execution_count": 11,
   "id": "806d1464-7202-4d66-af52-3a6ffe8668d4",
   "metadata": {
    "tags": []
   },
   "outputs": [
    {
     "name": "stdout",
     "output_type": "stream",
     "text": [
      "\n",
      "\n",
      "\u001b[1m> Entering new GraphCypherQAChain chain...\u001b[0m\n",
      "Generated Cypher:\n",
      "\u001b[32;1m\u001b[1;3mcypher\n",
      "MATCH (m:Manager)-[o:OWNS]->(c:Company) WHERE toLower(c.companyName) IN [\"facebook\", \"amazon\", \"apple\", \"netflix\", \"google\"] RETURN m.managerName AS manager, c.companyName AS company\n",
      "\u001b[0m\n",
      "\n",
      "\u001b[1m> Finished chain.\u001b[0m\n",
      "{'query': 'Which managers own FAANG stocks?', 'result': [{'manager': 'Beacon Wealthcare LLC', 'company': 'Apple'}, {'manager': 'Pinnacle Holdings, LLC', 'company': 'Google'}, {'manager': 'Pinnacle Holdings, LLC', 'company': 'Google'}]}\n",
      "Final answer: **Beacon Wealthcare LLC** owns Apple stock. <br>\n",
      "**Pinnacle Holdings, LLC** owns Google stock. \n",
      "\n"
     ]
    }
   ],
   "source": [
    "r3 = chat(\"\"\"Which managers own FAANG stocks?\"\"\")\n",
    "print(f\"Final answer: {r3}\")"
   ]
  },
  {
   "cell_type": "markdown",
   "id": "e0686244-bb6b-4231-aebf-70b3c777ef25",
   "metadata": {},
   "source": [
    "Here again, we notice the traceability with Cypher, and because we engineered our prompt to include our schema, it understood what “manager” means in the context of our use case."
   ]
  },
  {
   "cell_type": "markdown",
   "id": "42d119d1-5b84-4665-985c-42eeeca49779",
   "metadata": {},
   "source": [
    "## Why Ground your LLM with Neo4j?\n",
    "There are 3 primary reasons to ground your LLM with Neo4j specifically:\n",
    "1. __Grounding for more complex question handling__: Multi-hop knowledge retrieval across connected data. Connections between data points are calculated before query time. \n",
    "2. __Enterprise reliability and security__: Fine-grained security so the chatbot only accesses information the user has permission to. Autonomous clustering for horizontal scaling.  Fully managed service in the cloud through Aura. \n",
    "3. __Performance__: fast queries with high concurrency for many users.\n",
    "\n",
    "We can explore point 1 with more complex questions below.\n",
    "\n",
    "A question requiring ~4 hops (would be joins in the relational world).  Having a knowledge graph with relationships calculated before query time allows us to answer the question quickly."
   ]
  },
  {
   "cell_type": "code",
   "execution_count": 12,
   "id": "4a980deb",
   "metadata": {
    "tags": []
   },
   "outputs": [
    {
     "name": "stdout",
     "output_type": "stream",
     "text": [
      "\n",
      "\n",
      "\u001b[1m> Entering new GraphCypherQAChain chain...\u001b[0m\n",
      "Generated Cypher:\n",
      "\u001b[32;1m\u001b[1;3mcypher\n",
      "MATCH (c1:Company) <-[:OWNS]- (m1:Manager) -[o:OWNS]-> (c2:Company) WHERE toLower(c1.companyName) CONTAINS \"lilly\" AND elementId(c1) <> elementId(c2) RETURN DISTINCT c2.companyName as company, sum(DISTINCT o.value) as totalInvested, sum(DISTINCT o.shares) as totalShares ORDER BY totalInvested DESC LIMIT 10\n",
      "\u001b[0m\n",
      "\n",
      "\u001b[1m> Finished chain.\u001b[0m\n",
      "{'query': 'What are the other top investments for fund managers investing in Lilly?', 'result': [{'company': 'Microsoft Corp', 'totalInvested': 2290947843977000.0, 'totalShares': 17393776522}, {'company': 'Apple Inc', 'totalInvested': 2230638696081000.0, 'totalShares': 28033302819}, {'company': 'Amazon Inc', 'totalInvested': 969104304752000.0, 'totalShares': 18767636504}, {'company': 'UnitedHealth Group', 'totalInvested': 672149591363000.0, 'totalShares': 3195110514}, {'company': 'NVIDIA Corp', 'totalInvested': 611047372090000.0, 'totalShares': 5833290176}, {'company': 'Johnson & Johnson', 'totalInvested': 514000878096000.0, 'totalShares': 7080776823}, {'company': 'Tesla Motors Inc', 'totalInvested': 502407377908000.0, 'totalShares': 4838346682}, {'company': 'Exxon Mobil Corp', 'totalInvested': 488564098132000.0, 'totalShares': 7921088100}, {'company': 'JPMorgan Chase & Co', 'totalInvested': 487637634248000.0, 'totalShares': 7848058997}, {'company': 'AbbVie Inc', 'totalInvested': 446791180128000.0, 'totalShares': 3281265706}]}\n",
      "Final answer: Fund managers investing in Lilly also invest in:\n",
      "- **Microsoft Corp**: $22,909,478,439,770,000.00 invested across 17,393,776,522 shares.\n",
      "- **Apple Inc**: $22,306,386,960,810,000.00 invested across 28,033,302,819 shares.\n",
      "- **Amazon Inc**: $9,691,043,047,520,000.00 invested across 18,767,636,504 shares.\n",
      "- **UnitedHealth Group**: $6,721,495,913,630,000.00 invested across 3,195,110,514 shares.\n",
      "- **NVIDIA Corp**: $6,110,473,720,900,000.00 invested across 5,833,290,176 shares.\n",
      "- **Johnson & Johnson**: $5,140,008,780,960,000.00 invested across 7,080,776,823 shares.\n",
      "- **Tesla Motors Inc**: $5,024,073,779,080,000.00 invested across 4,838,346,682 shares.\n",
      "- **Exxon Mobil Corp**: $4,885,640,981,320,000.00 invested across 7,921,088,100 shares.\n",
      "- **JPMorgan Chase & Co**: $4,876,376,342,480,000.00 invested across 7,848,058,997 shares.\n",
      "- **AbbVie Inc**: $4,467,911,801,280,000.00 invested across 3,281,265,706 shares. \n",
      "\n"
     ]
    }
   ],
   "source": [
    "r4 = chat(\"\"\"What are the other top investments for fund managers investing in Lilly?\"\"\")\n",
    "print(f\"Final answer: {r4}\")"
   ]
  },
  {
   "cell_type": "markdown",
   "id": "b65c1f42-d475-4075-9168-61f65fe6284f",
   "metadata": {},
   "source": [
    "Combine also with property conditions."
   ]
  },
  {
   "cell_type": "code",
   "execution_count": 13,
   "id": "877ae99c",
   "metadata": {
    "tags": []
   },
   "outputs": [
    {
     "name": "stdout",
     "output_type": "stream",
     "text": [
      "\n",
      "\n",
      "\u001b[1m> Entering new GraphCypherQAChain chain...\u001b[0m\n",
      "Generated Cypher:\n",
      "\u001b[32;1m\u001b[1;3mcypher\n",
      "MATCH (m1:Manager)-[o1:OWNS]->(:Company)<-[o2:OWNS]-(m2:Manager)\n",
      "WHERE toLower(m1.managerName) CONTAINS \"rempart\" AND elementId(m1) <> elementId(m2)\n",
      "WITH distinct m2 AS m2, sum(distinct o2.value) AS totalVal\n",
      "WHERE totalVal < 200000000\n",
      "RETURN m2.managerName AS manager, totalVal*0.000001 AS totalVal\n",
      "ORDER BY totalVal DESC\n",
      "LIMIT 10\n",
      "\u001b[0m\n",
      "\n",
      "\u001b[1m> Finished chain.\u001b[0m\n",
      "{'query': 'Which fund managers under 200 million have the most similar investment strategies to Rempart? Return the top 10.', 'result': [{'manager': 'BARD ASSOCIATES INC', 'totalVal': 197.88}, {'manager': 'Columbia Asset Management', 'totalVal': 195.07899999999998}, {'manager': 'Noked Israel Ltd', 'totalVal': 193.083}, {'manager': 'Meiji Yasuda Life Insurance Co', 'totalVal': 191.873}, {'manager': 'Doyle Wealth Management', 'totalVal': 189.45999999999998}, {'manager': 'Triple Frond Partners LLC', 'totalVal': 187.261}, {'manager': 'D L CARLSON INVESTMENT GROUP INC', 'totalVal': 187.25799999999998}, {'manager': 'ICAHN CARL C', 'totalVal': 185.38}, {'manager': 'Centre Asset Management, LLC', 'totalVal': 182.506}, {'manager': 'PHYSICIANS FINANCIAL SERVICES, INC.', 'totalVal': 178.656}]}\n",
      "Final answer: **BARD ASSOCIATES INC**<br>\n",
      "**Columbia Asset Management**<br>\n",
      "**Noked Israel Ltd**<br>\n",
      "**Meiji Yasuda Life Insurance Co**<br>\n",
      "**Doyle Wealth Management**<br>\n",
      "**Triple Frond Partners LLC**<br>\n",
      "**D L CARLSON INVESTMENT GROUP INC**<br>\n",
      "**ICAHN CARL C**<br>\n",
      "**Centre Asset Management, LLC**<br>\n",
      "**PHYSICIANS FINANCIAL SERVICES, INC.** \n",
      "\n"
     ]
    }
   ],
   "source": [
    "r5 = chat(\"\"\"Which fund managers under 200 million have the most similar investment strategies to Rempart? Return the top 10.\"\"\")\n",
    "print(f\"Final answer: {r5}\")"
   ]
  },
  {
   "cell_type": "markdown",
   "id": "3cbca6ab-01d6-4697-a58f-7978567ff66b",
   "metadata": {},
   "source": [
    "and more..."
   ]
  },
  {
   "cell_type": "code",
   "execution_count": 14,
   "id": "588955da",
   "metadata": {
    "tags": []
   },
   "outputs": [
    {
     "name": "stdout",
     "output_type": "stream",
     "text": [
      "\n",
      "\n",
      "\u001b[1m> Entering new GraphCypherQAChain chain...\u001b[0m\n",
      "Generated Cypher:\n",
      "\u001b[32;1m\u001b[1;3m\n",
      "MATCH (c1:Company)<-[:OWNS]-(m:Manager)-[:OWNS]->(c2:Company) WHERE toLower(c1.companyName) CONTAINS \"tesla\" AND toLower(c2.companyName) CONTAINS \"costco\" RETURN DISTINCT m.managerName\n",
      "\u001b[0m\n",
      "\n",
      "\u001b[1m> Finished chain.\u001b[0m\n",
      "{'query': 'Please get me common investors between Tesla and Costco', 'result': [{'m.managerName': '180 WEALTH ADVISORS, LLC'}, {'m.managerName': '1832 Asset Management L.P.'}, {'m.managerName': '1834 INVESTMENT ADVISORS CO'}, {'m.managerName': '1900 WEALTH MANAGEMENT LLC'}, {'m.managerName': '25 LLC'}, {'m.managerName': '360 Financial, Inc.'}, {'m.managerName': '4J Wealth Management LLC'}, {'m.managerName': '626 Financial, LLC'}, {'m.managerName': 'ABEILLE ASSET MANAGEMENT SA'}, {'m.managerName': 'ABLE Financial Group, LLC'}]}\n",
      "Final answer: **180 WEALTH ADVISORS, LLC**, **1832 Asset Management L.P.**, **1834 INVESTMENT ADVISORS CO**, **1900 WEALTH MANAGEMENT LLC**, **25 LLC**, **360 Financial, Inc.**, **4J Wealth Management LLC**, **626 Financial, LLC**, **ABEILLE ASSET MANAGEMENT SA**, **ABLE Financial Group, LLC** \n",
      "\n"
     ]
    }
   ],
   "source": [
    "r6 = chat(\"\"\"Please get me common investors between Tesla and Costco\"\"\")\n",
    "print(f\"Final answer: {r6}\")"
   ]
  },
  {
   "cell_type": "markdown",
   "id": "7e8b038e",
   "metadata": {},
   "source": [
    "## Grounded Chatbot\n",
    "Now we will use Gradio to deploy a chat interface with our chain behind it.\n",
    "\n",
    "The below code deploys a Gradio application.  You can access the app via a local URL. A publicly sharable URL is also provided (sharable for 3 days)."
   ]
  },
  {
   "cell_type": "code",
   "execution_count": 15,
   "id": "afbe1766",
   "metadata": {
    "tags": []
   },
   "outputs": [
    {
     "name": "stdout",
     "output_type": "stream",
     "text": [
      "Running on local URL:  http://127.0.0.1:7860\n",
      "Running on public URL: https://368aa84dd81062513b.gradio.live\n",
      "\n",
      "This share link expires in 72 hours. For free permanent hosting and GPU upgrades, run `gradio deploy` from Terminal to deploy to Spaces (https://huggingface.co/spaces)\n"
     ]
    },
    {
     "data": {
      "text/html": [
       "<div><iframe src=\"https://368aa84dd81062513b.gradio.live\" width=\"100%\" height=\"500\" allow=\"autoplay; camera; microphone; clipboard-read; clipboard-write;\" frameborder=\"0\" allowfullscreen></iframe></div>"
      ],
      "text/plain": [
       "<IPython.core.display.HTML object>"
      ]
     },
     "metadata": {},
     "output_type": "display_data"
    },
    {
     "data": {
      "text/plain": []
     },
     "execution_count": 15,
     "metadata": {},
     "output_type": "execute_result"
    },
    {
     "name": "stdout",
     "output_type": "stream",
     "text": [
      "\n",
      "\n",
      "\u001b[1m> Entering new GraphCypherQAChain chain...\u001b[0m\n",
      "Generated Cypher:\n",
      "\u001b[32;1m\u001b[1;3mcypher\n",
      "MATCH (c1:Company)<-[:OWNS]-(m1:Manager)-[o:OWNS]->(c2:Company)\n",
      "WHERE toLower(c1.companyName) CONTAINS \"exxon\" AND elementId(c1) <> elementId(c2)\n",
      "RETURN DISTINCT c2.companyName AS company, sum(DISTINCT o.value) AS totalInvested, sum(DISTINCT o.shares) AS totalShares\n",
      "ORDER BY totalInvested DESC\n",
      "LIMIT 10\n",
      "\u001b[0m\n",
      "\n",
      "\u001b[1m> Finished chain.\u001b[0m\n",
      "{'query': 'What are other top investments for fund managers investing in Exxon?', 'result': [{'company': 'Microsoft Corp', 'totalInvested': 2283255196882136.0, 'totalShares': 17090329639}, {'company': 'Apple Inc', 'totalInvested': 2228735980632931.0, 'totalShares': 27952286708}, {'company': 'Amazon Inc', 'totalInvested': 969254135830842.0, 'totalShares': 18762490387}, {'company': 'UnitedHealth Group', 'totalInvested': 671827298215494.0, 'totalShares': 3127915241}, {'company': 'NVIDIA Corp', 'totalInvested': 605486707369299.0, 'totalShares': 5781913891}, {'company': 'Johnson & Johnson', 'totalInvested': 520937547038053.0, 'totalShares': 7139877193}, {'company': 'Tesla Motors Inc', 'totalInvested': 492059444649212.0, 'totalShares': 4667019059}, {'company': 'JPMorgan Chase & Co', 'totalInvested': 492046894447624.0, 'totalShares': 7840662555}, {'company': 'AbbVie Inc', 'totalInvested': 448752538964175.0, 'totalShares': 3296088612}, {'company': 'HOME DEPOT', 'totalInvested': 407214844360006.0, 'totalShares': 2897988657}]}\n",
      "\n",
      "\n",
      "\u001b[1m> Entering new GraphCypherQAChain chain...\u001b[0m\n"
     ]
    }
   ],
   "source": [
    "import gradio as gr\n",
    "import typing_extensions\n",
    "from langchain.memory import ConversationBufferMemory\n",
    "\n",
    "memory = ConversationBufferMemory(memory_key = \"chat_history\", return_messages = True)\n",
    "\n",
    "def chat_response(input_text,history):\n",
    "\n",
    "    try:\n",
    "        return chat(input_text)\n",
    "    except:\n",
    "        # a bit of protection against exposed error messages\n",
    "        # we could log these situations in the backend to revisit later in development\n",
    "        return \"I'm sorry, there was an error retrieving the information you requested.\"\n",
    "\n",
    "interface = gr.ChatInterface(fn = chat_response,\n",
    "                             title = \"Investment Chatbot\",\n",
    "                             description = \"powered by Neo4j\",\n",
    "                             theme = \"soft\",\n",
    "                             chatbot = gr.Chatbot(height=500),\n",
    "                             undo_btn = None,\n",
    "                             clear_btn = \"\\U0001F5D1 Clear chat\",\n",
    "                             examples = [\"What are the top 10 investments for Rempart?\",\n",
    "                                         \"Which manager owns FAANG stocks?\",\n",
    "                                         \"What are other top investments for fund managers investing in Exxon?\",\n",
    "                                         \"What are Rempart's top investments by value for 2021?\",\n",
    "                                         \"Who are the common investors between Tesla and Costco?\",\n",
    "                                         \"Who are Tesla's top investors in last 48 months?\"])\n",
    "\n",
    "interface.launch(share=True)"
   ]
  },
  {
   "cell_type": "markdown",
   "id": "fa7c8755-2489-4a1f-8508-ed4b519fe43b",
   "metadata": {},
   "source": [
    "## Semantic Layers\n",
    "The Text to Cypher approach we just did above can be brittle due to the indeterministic nature of models. For Production, you might need to be more deterministic and robust. [Semantic Layers approach](https://github.com/neo4j-partners/neo4j-generative-ai-google-cloud/blob/main/assetmanager/ui/streamlit/semantic_layer/semantic_fn.py) is more suitable here. It leverages on Tooling or Function-calling capabilities of LLMs. So, user queries can be directed to relevant templated cypher queries via function-calling. This way, no Cypher gets geenrated by the LLM. Instead, user's intent and query parameters are captured and directed to the relevant templated cypher code."
   ]
  },
  {
   "cell_type": "markdown",
   "id": "c00e27bc-e586-467b-8ace-6d3893d2fad1",
   "metadata": {},
   "source": [
    "## Fine Tuning for Cypher Generation\n",
    "We encourage you to use Vertex AI Gemini family models with a schema, few-shot examples, and precise prompt engineering for Cypher generation. However, if that still doesn't provide an appropriate level of quality, or you need your LLM to improve accuracy on a more specific task area, you can try fine-tuning.\n",
    "\n",
    "Fine-tuning is the process of taking a foundational model and making precise changes to improve its performance for a specific, narrower task. It works by taking in training data containing many examples of your specific task and using it to update or add additional parameters in a new version of the model.\n",
    "\n",
    "The total training time generally takes more than an hour. The tuned adapter model is going to stay within your tenant, and your training data will not be used to train the base model, which is frozen. Tuning runs on GCP's TPU infrastructure that is optimized to run ML workloads.\n",
    "\n",
    "The training data should be structured as a supervised training set, where each row contains input text and desired, resulting, Cypher query. Vertex AI expects you to adhere to the below format in a `jsonl` file.\n",
    "\n",
    "```\n",
    "{\"input_text\": \"MY_INPUT_PROMPT\", \"output_text\": \"CYPHER_QUERY\"}\n",
    "```\n",
    "You can find more about fine-tuning in the [Vertex AI documentation](https://cloud.google.com/vertex-ai/docs/generative-ai/models/tune-models)\n"
   ]
  },
  {
   "cell_type": "markdown",
   "id": "b5197afd",
   "metadata": {},
   "source": [
    "## Conclusion\n",
    "In this notebook, we went through the steps of connecting a LangChain agent to a Neo4j database and using it to generate Cypher queries in response to user requests via LLMs on Vertex AI, thus grounding the LLM with a knowledge graph.\n",
    "\n",
    "While we used the `gemini-1.5-flash` and `gemini-1.5-pro` models here, this approach can be generalized to other Vertex AI LLMs.  This process can also be augmented with additional steps around the generation chain to customize the experience for specific use cases.  \n",
    "\n",
    "The critical takeaway is the importance of Neo4j Knowledge Graph as a grounding database to: \n",
    "* Anchor your chatbot to reality as it generates responses and \n",
    "* Enable your LLM to provide answers enriched with relevant enterprise data."
   ]
  },
  {
   "cell_type": "code",
   "execution_count": null,
   "id": "1a1c3837-5cd9-4f10-9b0d-7869f7044b9b",
   "metadata": {},
   "outputs": [],
   "source": []
  }
 ],
 "metadata": {
  "environment": {
   "kernel": "conda-base-py",
   "name": "workbench-notebooks.m124",
   "type": "gcloud",
   "uri": "us-docker.pkg.dev/deeplearning-platform-release/gcr.io/workbench-notebooks:m124"
  },
  "kernelspec": {
   "display_name": "Python 3 (ipykernel)",
   "language": "python",
   "name": "conda-base-py"
  },
  "language_info": {
   "codemirror_mode": {
    "name": "ipython",
    "version": 3
   },
   "file_extension": ".py",
   "mimetype": "text/x-python",
   "name": "python",
   "nbconvert_exporter": "python",
   "pygments_lexer": "ipython3",
   "version": "3.10.14"
  }
 },
 "nbformat": 4,
 "nbformat_minor": 5
}
