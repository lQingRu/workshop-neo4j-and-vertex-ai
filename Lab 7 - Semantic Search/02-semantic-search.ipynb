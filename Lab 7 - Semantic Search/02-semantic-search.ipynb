{
 "cells": [
  {
   "cell_type": "markdown",
   "id": "19ae6874-7585-4a0b-848c-965f639def41",
   "metadata": {},
   "source": [
    "# Semantic Search\n",
    "Semantic search is [defined as \"search with meaning.\"](https://en.wikipedia.org/wiki/Semantic_search) It is key for effective knowledge retrieval.\n",
    "\n",
    "As opposed to traditional, lexical, search which finds matches based on keywords, semantic search seeks to improve search quality and accuracy by understanding search intent and pulling results that match the user’s contextual meaning.  Semantic search is often used in reference to text embedding and vector similarity search, but this is just one implementation aspect of it. Knowledge graph and symbolic query logic can also play a critical role in making semantic search a reality. \n",
    "\n",
    "If all you care about is analyzing a set of documents on a file system, then sure, vector indexing and search may be sufficient.  However, once you need to retrieve and make inferences about people, places, and things connected to those documents, Knowledge graph becomes key. \n",
    "\n",
    "If documents are the entities of interest, for example: \"find all documents that talk about pharma related things,\" then text embeddings with vector similarity search suffices.  But, what if we want second or third-order entities related to the documents?  For example, \"find investors who are most focused on pharma related strategies,\" how would we efficiently search for them at scale in an enterprise setting?\n",
    "\n",
    "This is what we demonstrate below.  We will also show how you can use graph relationships and Graph Data Science algorithms to further improve search results, especially in common scenarios where the presence of text data is inconsistent or sparse."
   ]
  },
  {
   "cell_type": "markdown",
   "id": "4026b768-0406-4ce1-a1bb-ed79b64701a3",
   "metadata": {},
   "source": [
    "## Connect to Neo4j"
   ]
  },
  {
   "cell_type": "code",
   "execution_count": 1,
   "id": "50798482-b5d5-4e96-adb2-851a3855f82e",
   "metadata": {
    "tags": []
   },
   "outputs": [],
   "source": [
    "# username is neo4j by default\n",
    "NEO4J_USERNAME = 'neo4j'\n",
    "\n",
    "# You will need to change these to match your credentials\n",
    "NEO4J_URI = 'neo4j+s://7e098dc5.databases.neo4j.io' #Eg 'neo4j+s://ccc5f4f5.databases.neo4j.io'\n",
    "NEO4J_PASSWORD = '19_Kt_bHLte_0F2r4OAqGv1ihz9ciXJfJaav0-hpNrI'"
   ]
  },
  {
   "cell_type": "code",
   "execution_count": 2,
   "id": "5aa11282-874f-4126-832d-9a2f772989a5",
   "metadata": {
    "tags": []
   },
   "outputs": [],
   "source": [
    "from graphdatascience import GraphDataScience\n",
    "\n",
    "gds = GraphDataScience(\n",
    "    NEO4J_URI,\n",
    "    auth = (NEO4J_USERNAME, NEO4J_PASSWORD),\n",
    "    aura_ds = True\n",
    ")"
   ]
  },
  {
   "cell_type": "markdown",
   "id": "6ded4103-008d-4f93-82c9-918add3688eb",
   "metadata": {},
   "source": [
    "## Neo4j Vector Index\n",
    "We will need to create a vector index for similarity search on Document nodes. Neo4j offers a vector index that enables Approximate Nearest Neighbor Search (ANN). Let's creat an index."
   ]
  },
  {
   "cell_type": "code",
   "execution_count": null,
   "id": "f08fe029-fd4f-476a-b510-7dbcdb3d892d",
   "metadata": {
    "tags": []
   },
   "outputs": [],
   "source": [
    "gds.run_cypher(\"CALL db.index.vector.createNodeIndex('document-embeddings', 'Document', 'textEmbedding', 768, 'cosine')\")"
   ]
  },
  {
   "cell_type": "markdown",
   "id": "27e3300f-e799-4ac1-b236-a23c300ae5e2",
   "metadata": {},
   "source": [
    "You can see that vector index has been created using `SHOW INDEXES`"
   ]
  },
  {
   "cell_type": "code",
   "execution_count": 5,
   "id": "3b9c4634-bfee-4d73-a197-ed4345e729bf",
   "metadata": {
    "tags": []
   },
   "outputs": [
    {
     "data": {
      "text/html": [
       "<div>\n",
       "<style scoped>\n",
       "    .dataframe tbody tr th:only-of-type {\n",
       "        vertical-align: middle;\n",
       "    }\n",
       "\n",
       "    .dataframe tbody tr th {\n",
       "        vertical-align: top;\n",
       "    }\n",
       "\n",
       "    .dataframe thead th {\n",
       "        text-align: right;\n",
       "    }\n",
       "</style>\n",
       "<table border=\"1\" class=\"dataframe\">\n",
       "  <thead>\n",
       "    <tr style=\"text-align: right;\">\n",
       "      <th></th>\n",
       "      <th>name</th>\n",
       "      <th>type</th>\n",
       "      <th>labelsOrTypes</th>\n",
       "      <th>properties</th>\n",
       "      <th>options</th>\n",
       "    </tr>\n",
       "  </thead>\n",
       "  <tbody>\n",
       "    <tr>\n",
       "      <th>0</th>\n",
       "      <td>document-embeddings</td>\n",
       "      <td>VECTOR</td>\n",
       "      <td>[Document]</td>\n",
       "      <td>[textEmbedding]</td>\n",
       "      <td>{'indexProvider': 'vector-2.0', 'indexConfig':...</td>\n",
       "    </tr>\n",
       "  </tbody>\n",
       "</table>\n",
       "</div>"
      ],
      "text/plain": [
       "                  name    type labelsOrTypes       properties  \\\n",
       "0  document-embeddings  VECTOR    [Document]  [textEmbedding]   \n",
       "\n",
       "                                             options  \n",
       "0  {'indexProvider': 'vector-2.0', 'indexConfig':...  "
      ]
     },
     "execution_count": 5,
     "metadata": {},
     "output_type": "execute_result"
    }
   ],
   "source": [
    "gds.run_cypher(''' \n",
    "SHOW INDEXES YIELD name, type, labelsOrTypes, properties, options\n",
    "WHERE type = \"VECTOR\"\n",
    "''')"
   ]
  },
  {
   "cell_type": "markdown",
   "id": "313f706a-08c3-4fc0-9c50-293d588414ae",
   "metadata": {},
   "source": [
    "## Deep Semantic Search with Knowledge Graph\n",
    "Now that we have an index.  Let’s use it in action.\n",
    "In this case, we will Answer The Question - \"What are the companies associated with energy, oil and gas?\". \n",
    "Remember we do not have documents on investment managers, just companies, and there can be multiple documents for each company."
   ]
  },
  {
   "cell_type": "markdown",
   "id": "a00ab005-bc0f-49b7-8cf9-e6ecf5cbe298",
   "metadata": {},
   "source": [
    "## Dense Retrieval using Neo4j"
   ]
  },
  {
   "cell_type": "code",
   "execution_count": 6,
   "id": "c13411b2-37ae-4d80-a147-9e32904d9012",
   "metadata": {
    "tags": []
   },
   "outputs": [],
   "source": [
    "from langchain.docstore.document import Document\n",
    "from typing import (\n",
    "    List,\n",
    "    Tuple,\n",
    ")\n",
    "\n",
    "def to_df(results: List[Tuple[Document, float]]):\n",
    "    return pd.DataFrame({\n",
    "        \"doc_id\": [r[0].metadata.get('documentId') for r in results],\n",
    "        \"score\": [r[1] for r in results],\n",
    "        \"text\": [r[0].page_content for r in results]\n",
    "    })"
   ]
  },
  {
   "cell_type": "code",
   "execution_count": 7,
   "id": "48299f48-f956-4648-8739-9c990811fa55",
   "metadata": {
    "tags": []
   },
   "outputs": [
    {
     "data": {
      "text/html": [
       "<div>\n",
       "<style scoped>\n",
       "    .dataframe tbody tr th:only-of-type {\n",
       "        vertical-align: middle;\n",
       "    }\n",
       "\n",
       "    .dataframe tbody tr th {\n",
       "        vertical-align: top;\n",
       "    }\n",
       "\n",
       "    .dataframe thead th {\n",
       "        text-align: right;\n",
       "    }\n",
       "</style>\n",
       "<table border=\"1\" class=\"dataframe\">\n",
       "  <thead>\n",
       "    <tr style=\"text-align: right;\">\n",
       "      <th></th>\n",
       "      <th>doc_id</th>\n",
       "      <th>score</th>\n",
       "      <th>text</th>\n",
       "    </tr>\n",
       "  </thead>\n",
       "  <tbody>\n",
       "    <tr>\n",
       "      <th>0</th>\n",
       "      <td>BERKSHIRE HATHAWAY INC25</td>\n",
       "      <td>0.787650</td>\n",
       "      <td>The Great Britain distribution companies consi...</td>\n",
       "    </tr>\n",
       "    <tr>\n",
       "      <th>1</th>\n",
       "      <td>BERKSHIRE HATHAWAY INC30</td>\n",
       "      <td>0.765144</td>\n",
       "      <td>The natural gas pipelines are subject to regul...</td>\n",
       "    </tr>\n",
       "    <tr>\n",
       "      <th>2</th>\n",
       "      <td>BERKSHIRE HATHAWAY INC34</td>\n",
       "      <td>0.763698</td>\n",
       "      <td>BHE and its energy subsidiaries continue to fo...</td>\n",
       "    </tr>\n",
       "    <tr>\n",
       "      <th>3</th>\n",
       "      <td>BERKSHIRE HATHAWAY INC26</td>\n",
       "      <td>0.763532</td>\n",
       "      <td>Northern Natural, based in Nebraska, operates ...</td>\n",
       "    </tr>\n",
       "    <tr>\n",
       "      <th>4</th>\n",
       "      <td>BERKSHIRE HATHAWAY INC23</td>\n",
       "      <td>0.761165</td>\n",
       "      <td>Berkshire currently has a 91.1% ownership inte...</td>\n",
       "    </tr>\n",
       "    <tr>\n",
       "      <th>5</th>\n",
       "      <td>BERKSHIRE HATHAWAY INC42</td>\n",
       "      <td>0.753069</td>\n",
       "      <td>Lubrizol operates its business on a global bas...</td>\n",
       "    </tr>\n",
       "    <tr>\n",
       "      <th>6</th>\n",
       "      <td>APPLIED INDUSTRIAL TECHNOLOGIES IN12</td>\n",
       "      <td>0.751196</td>\n",
       "      <td>.  Our Fluid Power &amp; Flow Control segment incl...</td>\n",
       "    </tr>\n",
       "    <tr>\n",
       "      <th>7</th>\n",
       "      <td>BERKSHIRE HATHAWAY INC47</td>\n",
       "      <td>0.749413</td>\n",
       "      <td>Industrial Products\\n supplies construction fa...</td>\n",
       "    </tr>\n",
       "    <tr>\n",
       "      <th>8</th>\n",
       "      <td>BERKSHIRE HATHAWAY INC24</td>\n",
       "      <td>0.747765</td>\n",
       "      <td>MidAmerican Energy Company (“MEC”) is a regula...</td>\n",
       "    </tr>\n",
       "    <tr>\n",
       "      <th>9</th>\n",
       "      <td>APPLIED INDUSTRIAL TECHNOLOGIES IN8</td>\n",
       "      <td>0.747416</td>\n",
       "      <td>Our operations are primarily based in the U.S....</td>\n",
       "    </tr>\n",
       "  </tbody>\n",
       "</table>\n",
       "</div>"
      ],
      "text/plain": [
       "                                 doc_id     score  \\\n",
       "0              BERKSHIRE HATHAWAY INC25  0.787650   \n",
       "1              BERKSHIRE HATHAWAY INC30  0.765144   \n",
       "2              BERKSHIRE HATHAWAY INC34  0.763698   \n",
       "3              BERKSHIRE HATHAWAY INC26  0.763532   \n",
       "4              BERKSHIRE HATHAWAY INC23  0.761165   \n",
       "5              BERKSHIRE HATHAWAY INC42  0.753069   \n",
       "6  APPLIED INDUSTRIAL TECHNOLOGIES IN12  0.751196   \n",
       "7              BERKSHIRE HATHAWAY INC47  0.749413   \n",
       "8              BERKSHIRE HATHAWAY INC24  0.747765   \n",
       "9   APPLIED INDUSTRIAL TECHNOLOGIES IN8  0.747416   \n",
       "\n",
       "                                                text  \n",
       "0  The Great Britain distribution companies consi...  \n",
       "1  The natural gas pipelines are subject to regul...  \n",
       "2  BHE and its energy subsidiaries continue to fo...  \n",
       "3  Northern Natural, based in Nebraska, operates ...  \n",
       "4  Berkshire currently has a 91.1% ownership inte...  \n",
       "5  Lubrizol operates its business on a global bas...  \n",
       "6  .  Our Fluid Power & Flow Control segment incl...  \n",
       "7  Industrial Products\\n supplies construction fa...  \n",
       "8  MidAmerican Energy Company (“MEC”) is a regula...  \n",
       "9  Our operations are primarily based in the U.S....  "
      ]
     },
     "execution_count": 7,
     "metadata": {},
     "output_type": "execute_result"
    }
   ],
   "source": [
    "from langchain.vectorstores import Neo4jVector\n",
    "from langchain_google_vertexai import VertexAIEmbeddings\n",
    "from langchain.vectorstores.neo4j_vector import SearchType\n",
    "import pandas as pd\n",
    "\n",
    "EMBEDDING_MODEL = 'text-embedding-004'\n",
    "db = Neo4jVector.from_existing_index(\n",
    "    url = NEO4J_URI,\n",
    "    username = NEO4J_USERNAME,\n",
    "    password = NEO4J_PASSWORD,\n",
    "    embedding = VertexAIEmbeddings(model_name=EMBEDDING_MODEL),\n",
    "    index_name = 'document-embeddings',\n",
    "    keyword_index_name = 'doc_text',\n",
    "    search_type = SearchType.VECTOR\n",
    ")\n",
    "query = 'What are the companies associated with energy, oil and gas?'\n",
    "results = db.similarity_search_with_score(query, k=10)\n",
    "res_df = to_df(results)\n",
    "res_df"
   ]
  },
  {
   "cell_type": "markdown",
   "id": "6842196c-c83a-4e07-889e-e4775ef1ff26",
   "metadata": {},
   "source": [
    "Lets take a look at the first result and then understand whether the chunk has the information we asked for."
   ]
  },
  {
   "cell_type": "code",
   "execution_count": 8,
   "id": "365985b9-eb2b-47cd-8869-4f31351a23ac",
   "metadata": {
    "tags": []
   },
   "outputs": [
    {
     "data": {
      "text/plain": [
       "'The Great Britain distribution companies consist of Northern Powergrid (Northeast) plc and Northern Powergrid (Yorkshire) plc, which own a substantial electricity distribution network that delivers electricity to end-users in northeast England in an area covering approximately 10,000 square miles. The distribution companies primarily charge supply companies regulated tariffs for the use of their distribution systems. \\n\\n\\nAltaLink L.P. (“AltaLink”) is a regulated electric transmission-only utility company headquartered in Calgary, Alberta. AltaLink’s high voltage transmission lines and related facilities transmit electricity from generating facilities to major load centers, cities and large industrial plants throughout its 87,000 square mile service territory. \\n\\n\\nThe natural gas pipelines consist of BHE GT&S, LLC (“BHE GT&S”), Northern Natural Gas Company (“Northern Natural”) and Kern River Gas Transmission Company (“Kern River”). BHE GT&S was acquired on November 1, 2020.\\n\\n\\nBHE GT&S, based in Virginia, operates three interstate natural gas pipeline systems that consist of approximately 5,400 miles of natural gas transmission, gathering and storage pipelines and operates seventeen underground natural gas storage fields in the eastern region of the United States. BHE GT&S’s large underground natural gas storage assets and pipeline systems are part of an interconnected gas transmission network that provides transportation services to utilities and numerous other customers. BHE GT&S is also an industry leader in liquefied natural gas solutions through its investments in and ownership of several liquefied natural gas facilities located throughout the eastern region of the United States.'"
      ]
     },
     "execution_count": 8,
     "metadata": {},
     "output_type": "execute_result"
    }
   ],
   "source": [
    "res_df['text'][0]"
   ]
  },
  {
   "cell_type": "markdown",
   "id": "b8f4a919-4a40-4b37-a565-73111324fa31",
   "metadata": {},
   "source": [
    "## Re-rank results\n",
    "If you explore the results, you may find some irrelevant results. The retriever has to be efficient for large document collections with millions of entries. However, it might return irrelevant candidates.\n",
    "A re-ranker can rank the final results for the user. The query and a list of retrieved documents are passed simultaneously to transformer network, which then outputs a single score between 0 and 1 indicating how relevant the document is for the given query.\n",
    "\n",
    "We will use a Cross-encoder model named `ms-marco-MiniLM-L-6-v2` from SentenceTransformers library. In a Production setting, you can also consider fine-tuning the reranker appropriately."
   ]
  },
  {
   "cell_type": "code",
   "execution_count": 11,
   "id": "29a717ff-9df5-47fb-9962-f296187faae2",
   "metadata": {
    "tags": []
   },
   "outputs": [],
   "source": [
    "def rerank_results(res_df):\n",
    "    from sentence_transformers import SentenceTransformer, CrossEncoder, util\n",
    "    cross_encoder = CrossEncoder('cross-encoder/ms-marco-MiniLM-L-6-v2')\n",
    "    passages = []\n",
    "    \n",
    "    # Score all retrieved passages with the cross_encoder\n",
    "    cross_inp = [[query, f\"Text: {hit['text']}\"] for _,hit in res_df[:].iterrows()]\n",
    "    cross_scores = cross_encoder.predict(cross_inp)\n",
    "\n",
    "    # Sort results by the cross-encoder scores\n",
    "    res_df['cross-score'] = cross_scores\n",
    "\n",
    "    # Output of top-10 hits from re-ranker\n",
    "    print(\"Top-10 Cross-Encoder Re-ranker hits\")\n",
    "    hits = res_df.sort_values('cross-score', ascending=False).reset_index(drop=True)\n",
    "    for _,hit in hits.iterrows():\n",
    "        print(\"\\t{:.3f}\\t{}\".format(hit['cross-score'], hit['doc_id']))\n",
    "    return hits"
   ]
  },
  {
   "cell_type": "code",
   "execution_count": 12,
   "id": "5851d3bb-d93f-41fc-9315-8d8dc34f4a72",
   "metadata": {
    "tags": []
   },
   "outputs": [
    {
     "data": {
      "application/json": {
       "ascii": false,
       "bar_format": null,
       "colour": null,
       "elapsed": 0.018826007843017578,
       "initial": 0,
       "n": 0,
       "ncols": null,
       "nrows": null,
       "postfix": null,
       "prefix": "config.json",
       "rate": null,
       "total": 794,
       "unit": "B",
       "unit_divisor": 1000,
       "unit_scale": true
      },
      "application/vnd.jupyter.widget-view+json": {
       "model_id": "03f6c50d7a174ef1964cb6aa1c781b00",
       "version_major": 2,
       "version_minor": 0
      },
      "text/plain": [
       "config.json:   0%|          | 0.00/794 [00:00<?, ?B/s]"
      ]
     },
     "metadata": {},
     "output_type": "display_data"
    },
    {
     "data": {
      "application/json": {
       "ascii": false,
       "bar_format": null,
       "colour": null,
       "elapsed": 0.015063285827636719,
       "initial": 0,
       "n": 0,
       "ncols": null,
       "nrows": null,
       "postfix": null,
       "prefix": "pytorch_model.bin",
       "rate": null,
       "total": 90903017,
       "unit": "B",
       "unit_divisor": 1000,
       "unit_scale": true
      },
      "application/vnd.jupyter.widget-view+json": {
       "model_id": "e238c5a984624cb39dbb551bff54590e",
       "version_major": 2,
       "version_minor": 0
      },
      "text/plain": [
       "pytorch_model.bin:   0%|          | 0.00/90.9M [00:00<?, ?B/s]"
      ]
     },
     "metadata": {},
     "output_type": "display_data"
    },
    {
     "data": {
      "application/json": {
       "ascii": false,
       "bar_format": null,
       "colour": null,
       "elapsed": 0.01192474365234375,
       "initial": 0,
       "n": 0,
       "ncols": null,
       "nrows": null,
       "postfix": null,
       "prefix": "tokenizer_config.json",
       "rate": null,
       "total": 316,
       "unit": "B",
       "unit_divisor": 1000,
       "unit_scale": true
      },
      "application/vnd.jupyter.widget-view+json": {
       "model_id": "993d69af441a4d329af6a64e8afe1cac",
       "version_major": 2,
       "version_minor": 0
      },
      "text/plain": [
       "tokenizer_config.json:   0%|          | 0.00/316 [00:00<?, ?B/s]"
      ]
     },
     "metadata": {},
     "output_type": "display_data"
    },
    {
     "data": {
      "application/json": {
       "ascii": false,
       "bar_format": null,
       "colour": null,
       "elapsed": 0.01092839241027832,
       "initial": 0,
       "n": 0,
       "ncols": null,
       "nrows": null,
       "postfix": null,
       "prefix": "vocab.txt",
       "rate": null,
       "total": 231508,
       "unit": "B",
       "unit_divisor": 1000,
       "unit_scale": true
      },
      "application/vnd.jupyter.widget-view+json": {
       "model_id": "c8f98e454a4c4f68ac09612a23c8764e",
       "version_major": 2,
       "version_minor": 0
      },
      "text/plain": [
       "vocab.txt:   0%|          | 0.00/232k [00:00<?, ?B/s]"
      ]
     },
     "metadata": {},
     "output_type": "display_data"
    },
    {
     "data": {
      "application/json": {
       "ascii": false,
       "bar_format": null,
       "colour": null,
       "elapsed": 0.008951663970947266,
       "initial": 0,
       "n": 0,
       "ncols": null,
       "nrows": null,
       "postfix": null,
       "prefix": "special_tokens_map.json",
       "rate": null,
       "total": 112,
       "unit": "B",
       "unit_divisor": 1000,
       "unit_scale": true
      },
      "application/vnd.jupyter.widget-view+json": {
       "model_id": "3df08e0c8700414d87d36086e0fae271",
       "version_major": 2,
       "version_minor": 0
      },
      "text/plain": [
       "special_tokens_map.json:   0%|          | 0.00/112 [00:00<?, ?B/s]"
      ]
     },
     "metadata": {},
     "output_type": "display_data"
    },
    {
     "name": "stderr",
     "output_type": "stream",
     "text": [
      "/home/jupyter/.local/lib/python3.10/site-packages/transformers/tokenization_utils_base.py:1601: FutureWarning: `clean_up_tokenization_spaces` was not set. It will be set to `True` by default. This behavior will be depracted in transformers v4.45, and will be then set to `False` by default. For more details check this issue: https://github.com/huggingface/transformers/issues/31884\n",
      "  warnings.warn(\n"
     ]
    },
    {
     "name": "stdout",
     "output_type": "stream",
     "text": [
      "Top-10 Cross-Encoder Re-ranker hits\n",
      "\t-2.413\tBERKSHIRE HATHAWAY INC23\n",
      "\t-3.615\tBERKSHIRE HATHAWAY INC24\n",
      "\t-4.773\tBERKSHIRE HATHAWAY INC25\n",
      "\t-5.920\tBERKSHIRE HATHAWAY INC34\n",
      "\t-6.956\tAPPLIED INDUSTRIAL TECHNOLOGIES IN8\n",
      "\t-7.015\tBERKSHIRE HATHAWAY INC26\n",
      "\t-7.671\tBERKSHIRE HATHAWAY INC42\n",
      "\t-8.045\tBERKSHIRE HATHAWAY INC30\n",
      "\t-9.600\tBERKSHIRE HATHAWAY INC47\n",
      "\t-10.158\tAPPLIED INDUSTRIAL TECHNOLOGIES IN12\n"
     ]
    },
    {
     "data": {
      "text/html": [
       "<div>\n",
       "<style scoped>\n",
       "    .dataframe tbody tr th:only-of-type {\n",
       "        vertical-align: middle;\n",
       "    }\n",
       "\n",
       "    .dataframe tbody tr th {\n",
       "        vertical-align: top;\n",
       "    }\n",
       "\n",
       "    .dataframe thead th {\n",
       "        text-align: right;\n",
       "    }\n",
       "</style>\n",
       "<table border=\"1\" class=\"dataframe\">\n",
       "  <thead>\n",
       "    <tr style=\"text-align: right;\">\n",
       "      <th></th>\n",
       "      <th>doc_id</th>\n",
       "      <th>score</th>\n",
       "      <th>text</th>\n",
       "      <th>cross-score</th>\n",
       "    </tr>\n",
       "  </thead>\n",
       "  <tbody>\n",
       "    <tr>\n",
       "      <th>0</th>\n",
       "      <td>BERKSHIRE HATHAWAY INC23</td>\n",
       "      <td>0.761165</td>\n",
       "      <td>Berkshire currently has a 91.1% ownership inte...</td>\n",
       "      <td>-2.412768</td>\n",
       "    </tr>\n",
       "    <tr>\n",
       "      <th>1</th>\n",
       "      <td>BERKSHIRE HATHAWAY INC24</td>\n",
       "      <td>0.747765</td>\n",
       "      <td>MidAmerican Energy Company (“MEC”) is a regula...</td>\n",
       "      <td>-3.615499</td>\n",
       "    </tr>\n",
       "    <tr>\n",
       "      <th>2</th>\n",
       "      <td>BERKSHIRE HATHAWAY INC25</td>\n",
       "      <td>0.787650</td>\n",
       "      <td>The Great Britain distribution companies consi...</td>\n",
       "      <td>-4.772871</td>\n",
       "    </tr>\n",
       "    <tr>\n",
       "      <th>3</th>\n",
       "      <td>BERKSHIRE HATHAWAY INC34</td>\n",
       "      <td>0.763698</td>\n",
       "      <td>BHE and its energy subsidiaries continue to fo...</td>\n",
       "      <td>-5.920150</td>\n",
       "    </tr>\n",
       "    <tr>\n",
       "      <th>4</th>\n",
       "      <td>APPLIED INDUSTRIAL TECHNOLOGIES IN8</td>\n",
       "      <td>0.747416</td>\n",
       "      <td>Our operations are primarily based in the U.S....</td>\n",
       "      <td>-6.956180</td>\n",
       "    </tr>\n",
       "    <tr>\n",
       "      <th>5</th>\n",
       "      <td>BERKSHIRE HATHAWAY INC26</td>\n",
       "      <td>0.763532</td>\n",
       "      <td>Northern Natural, based in Nebraska, operates ...</td>\n",
       "      <td>-7.015030</td>\n",
       "    </tr>\n",
       "    <tr>\n",
       "      <th>6</th>\n",
       "      <td>BERKSHIRE HATHAWAY INC42</td>\n",
       "      <td>0.753069</td>\n",
       "      <td>Lubrizol operates its business on a global bas...</td>\n",
       "      <td>-7.670772</td>\n",
       "    </tr>\n",
       "    <tr>\n",
       "      <th>7</th>\n",
       "      <td>BERKSHIRE HATHAWAY INC30</td>\n",
       "      <td>0.765144</td>\n",
       "      <td>The natural gas pipelines are subject to regul...</td>\n",
       "      <td>-8.044989</td>\n",
       "    </tr>\n",
       "    <tr>\n",
       "      <th>8</th>\n",
       "      <td>BERKSHIRE HATHAWAY INC47</td>\n",
       "      <td>0.749413</td>\n",
       "      <td>Industrial Products\\n supplies construction fa...</td>\n",
       "      <td>-9.599635</td>\n",
       "    </tr>\n",
       "    <tr>\n",
       "      <th>9</th>\n",
       "      <td>APPLIED INDUSTRIAL TECHNOLOGIES IN12</td>\n",
       "      <td>0.751196</td>\n",
       "      <td>.  Our Fluid Power &amp; Flow Control segment incl...</td>\n",
       "      <td>-10.158342</td>\n",
       "    </tr>\n",
       "  </tbody>\n",
       "</table>\n",
       "</div>"
      ],
      "text/plain": [
       "                                 doc_id     score  \\\n",
       "0              BERKSHIRE HATHAWAY INC23  0.761165   \n",
       "1              BERKSHIRE HATHAWAY INC24  0.747765   \n",
       "2              BERKSHIRE HATHAWAY INC25  0.787650   \n",
       "3              BERKSHIRE HATHAWAY INC34  0.763698   \n",
       "4   APPLIED INDUSTRIAL TECHNOLOGIES IN8  0.747416   \n",
       "5              BERKSHIRE HATHAWAY INC26  0.763532   \n",
       "6              BERKSHIRE HATHAWAY INC42  0.753069   \n",
       "7              BERKSHIRE HATHAWAY INC30  0.765144   \n",
       "8              BERKSHIRE HATHAWAY INC47  0.749413   \n",
       "9  APPLIED INDUSTRIAL TECHNOLOGIES IN12  0.751196   \n",
       "\n",
       "                                                text  cross-score  \n",
       "0  Berkshire currently has a 91.1% ownership inte...    -2.412768  \n",
       "1  MidAmerican Energy Company (“MEC”) is a regula...    -3.615499  \n",
       "2  The Great Britain distribution companies consi...    -4.772871  \n",
       "3  BHE and its energy subsidiaries continue to fo...    -5.920150  \n",
       "4  Our operations are primarily based in the U.S....    -6.956180  \n",
       "5  Northern Natural, based in Nebraska, operates ...    -7.015030  \n",
       "6  Lubrizol operates its business on a global bas...    -7.670772  \n",
       "7  The natural gas pipelines are subject to regul...    -8.044989  \n",
       "8  Industrial Products\\n supplies construction fa...    -9.599635  \n",
       "9  .  Our Fluid Power & Flow Control segment incl...   -10.158342  "
      ]
     },
     "execution_count": 12,
     "metadata": {},
     "output_type": "execute_result"
    }
   ],
   "source": [
    "ranked_results = rerank_results(res_df)\n",
    "ranked_results"
   ]
  },
  {
   "cell_type": "markdown",
   "id": "3479218e-c372-4296-8058-af73eb85096b",
   "metadata": {},
   "source": [
    "As seen above, the cross-encoder finds this passage to be more relevant to the query"
   ]
  },
  {
   "cell_type": "code",
   "execution_count": 13,
   "id": "c38a08dc-b443-48ab-8e8e-11eb9bc53062",
   "metadata": {
    "tags": []
   },
   "outputs": [
    {
     "data": {
      "text/plain": [
       "'Berkshire currently has a 91.1% ownership interest in Berkshire Hathaway Energy Company (“BHE”). BHE is a global energy company with subsidiaries and affiliates that generate, transmit, store, distribute and supply energy. BHE’s locally managed businesses are organized as separate operating units. BHE’s domestic regulated energy interests are comprised of four regulated utility companies serving approximately 5.2\\xa0million retail customers, five interstate natural gas pipeline companies with approximately 21,100 miles of operated pipeline having a design capacity of approximately 21\\xa0billion cubic feet of natural gas per day and ownership interests in electricity transmission businesses. BHE’s Great Britain electricity distribution subsidiaries serve about 3.9\\xa0million electricity end-users and its electricity transmission-only business in Alberta, Canada serves approximately 85% of Alberta’s population. BHE’s interests also include a diversified portfolio of independent power projects, a liquefied natural gas export, import and storage facility, the largest residential real estate brokerage firm in the United States, and one of the largest residential real estate brokerage franchise networks in the United States. BHE employs approximately 24,000 people in connection with its various operations. \\n\\n\\nK-7\\n\\n\\n\\n\\n\\xa0\\n\\n\\nGeneral Matters \\n\\n\\nPacifiCorp is a regulated electric utility company headquartered in Oregon, serving electric customers in portions of Utah, Oregon, Wyoming, Washington, Idaho and California. The combined service territory’s diverse regional economy ranges from rural, agricultural and mining areas to urban, manufacturing and government service centers. No single segment of the economy dominates the combined service territory, which helps mitigate PacifiCorp’s exposure to economic fluctuations. In addition to retail sales, PacifiCorp sells electricity on a wholesale basis.'"
      ]
     },
     "execution_count": 13,
     "metadata": {},
     "output_type": "execute_result"
    }
   ],
   "source": [
    "ranked_results['text'][0]"
   ]
  },
  {
   "cell_type": "markdown",
   "id": "4f1d9d37-7f27-4683-9bb4-c21db62257f8",
   "metadata": {},
   "source": [
    "## Hybrid Search with Neo4j\n",
    "Vector Search is not the only solution. Often you will find a hybrid approach - a combination of Vector and Fulltext search perform better. You can do both in Neo4j.\n",
    "\n",
    "To do a Fulltext Search, lets first create a fulltext index"
   ]
  },
  {
   "cell_type": "code",
   "execution_count": 14,
   "id": "e107afba-2ae8-4da8-88b1-e5fe7236ced4",
   "metadata": {
    "tags": []
   },
   "outputs": [
    {
     "data": {
      "text/html": [
       "<div>\n",
       "<style scoped>\n",
       "    .dataframe tbody tr th:only-of-type {\n",
       "        vertical-align: middle;\n",
       "    }\n",
       "\n",
       "    .dataframe tbody tr th {\n",
       "        vertical-align: top;\n",
       "    }\n",
       "\n",
       "    .dataframe thead th {\n",
       "        text-align: right;\n",
       "    }\n",
       "</style>\n",
       "<table border=\"1\" class=\"dataframe\">\n",
       "  <thead>\n",
       "    <tr style=\"text-align: right;\">\n",
       "      <th></th>\n",
       "    </tr>\n",
       "  </thead>\n",
       "  <tbody>\n",
       "  </tbody>\n",
       "</table>\n",
       "</div>"
      ],
      "text/plain": [
       "Empty DataFrame\n",
       "Columns: []\n",
       "Index: []"
      ]
     },
     "execution_count": 14,
     "metadata": {},
     "output_type": "execute_result"
    }
   ],
   "source": [
    "gds.run_cypher(\"CREATE FULLTEXT INDEX doc_text IF NOT EXISTS FOR (n:Document) ON EACH [n.text]\")"
   ]
  },
  {
   "cell_type": "code",
   "execution_count": 15,
   "id": "4c75544b-ec3f-4eaa-b57d-bde5258d68b7",
   "metadata": {
    "tags": []
   },
   "outputs": [
    {
     "data": {
      "text/html": [
       "<div>\n",
       "<style scoped>\n",
       "    .dataframe tbody tr th:only-of-type {\n",
       "        vertical-align: middle;\n",
       "    }\n",
       "\n",
       "    .dataframe tbody tr th {\n",
       "        vertical-align: top;\n",
       "    }\n",
       "\n",
       "    .dataframe thead th {\n",
       "        text-align: right;\n",
       "    }\n",
       "</style>\n",
       "<table border=\"1\" class=\"dataframe\">\n",
       "  <thead>\n",
       "    <tr style=\"text-align: right;\">\n",
       "      <th></th>\n",
       "      <th>name</th>\n",
       "      <th>type</th>\n",
       "      <th>labelsOrTypes</th>\n",
       "      <th>properties</th>\n",
       "      <th>options</th>\n",
       "    </tr>\n",
       "  </thead>\n",
       "  <tbody>\n",
       "    <tr>\n",
       "      <th>0</th>\n",
       "      <td>doc_text</td>\n",
       "      <td>FULLTEXT</td>\n",
       "      <td>[Document]</td>\n",
       "      <td>[text]</td>\n",
       "      <td>{'indexProvider': 'fulltext-1.0', 'indexConfig...</td>\n",
       "    </tr>\n",
       "  </tbody>\n",
       "</table>\n",
       "</div>"
      ],
      "text/plain": [
       "       name      type labelsOrTypes properties  \\\n",
       "0  doc_text  FULLTEXT    [Document]     [text]   \n",
       "\n",
       "                                             options  \n",
       "0  {'indexProvider': 'fulltext-1.0', 'indexConfig...  "
      ]
     },
     "execution_count": 15,
     "metadata": {},
     "output_type": "execute_result"
    }
   ],
   "source": [
    "gds.run_cypher(''' \n",
    "SHOW INDEXES YIELD name, type, labelsOrTypes, properties, options\n",
    "WHERE type = \"FULLTEXT\"\n",
    "''')"
   ]
  },
  {
   "cell_type": "code",
   "execution_count": 16,
   "id": "c512be4c-9e55-4b92-9d7c-bb8f2eb2a583",
   "metadata": {
    "tags": []
   },
   "outputs": [
    {
     "data": {
      "text/html": [
       "<div>\n",
       "<style scoped>\n",
       "    .dataframe tbody tr th:only-of-type {\n",
       "        vertical-align: middle;\n",
       "    }\n",
       "\n",
       "    .dataframe tbody tr th {\n",
       "        vertical-align: top;\n",
       "    }\n",
       "\n",
       "    .dataframe thead th {\n",
       "        text-align: right;\n",
       "    }\n",
       "</style>\n",
       "<table border=\"1\" class=\"dataframe\">\n",
       "  <thead>\n",
       "    <tr style=\"text-align: right;\">\n",
       "      <th></th>\n",
       "      <th>doc_id</th>\n",
       "      <th>score</th>\n",
       "      <th>text</th>\n",
       "    </tr>\n",
       "  </thead>\n",
       "  <tbody>\n",
       "    <tr>\n",
       "      <th>0</th>\n",
       "      <td>BERKSHIRE HATHAWAY INC25</td>\n",
       "      <td>1.000000</td>\n",
       "      <td>The Great Britain distribution companies consi...</td>\n",
       "    </tr>\n",
       "    <tr>\n",
       "      <th>1</th>\n",
       "      <td>BERKSHIRE HATHAWAY INC26</td>\n",
       "      <td>1.000000</td>\n",
       "      <td>Northern Natural, based in Nebraska, operates ...</td>\n",
       "    </tr>\n",
       "    <tr>\n",
       "      <th>2</th>\n",
       "      <td>BERKSHIRE HATHAWAY INC30</td>\n",
       "      <td>0.971426</td>\n",
       "      <td>The natural gas pipelines are subject to regul...</td>\n",
       "    </tr>\n",
       "    <tr>\n",
       "      <th>3</th>\n",
       "      <td>BERKSHIRE HATHAWAY INC34</td>\n",
       "      <td>0.969590</td>\n",
       "      <td>BHE and its energy subsidiaries continue to fo...</td>\n",
       "    </tr>\n",
       "    <tr>\n",
       "      <th>4</th>\n",
       "      <td>BERKSHIRE HATHAWAY INC23</td>\n",
       "      <td>0.966374</td>\n",
       "      <td>Berkshire currently has a 91.1% ownership inte...</td>\n",
       "    </tr>\n",
       "    <tr>\n",
       "      <th>5</th>\n",
       "      <td>BERKSHIRE HATHAWAY INC42</td>\n",
       "      <td>0.956096</td>\n",
       "      <td>Lubrizol operates its business on a global bas...</td>\n",
       "    </tr>\n",
       "    <tr>\n",
       "      <th>6</th>\n",
       "      <td>APPLIED INDUSTRIAL TECHNOLOGIES IN12</td>\n",
       "      <td>0.953718</td>\n",
       "      <td>.  Our Fluid Power &amp; Flow Control segment incl...</td>\n",
       "    </tr>\n",
       "    <tr>\n",
       "      <th>7</th>\n",
       "      <td>BERKSHIRE HATHAWAY INC47</td>\n",
       "      <td>0.951454</td>\n",
       "      <td>Industrial Products\\n supplies construction fa...</td>\n",
       "    </tr>\n",
       "    <tr>\n",
       "      <th>8</th>\n",
       "      <td>BERKSHIRE HATHAWAY INC24</td>\n",
       "      <td>0.949362</td>\n",
       "      <td>MidAmerican Energy Company (“MEC”) is a regula...</td>\n",
       "    </tr>\n",
       "    <tr>\n",
       "      <th>9</th>\n",
       "      <td>APPLIED INDUSTRIAL TECHNOLOGIES IN8</td>\n",
       "      <td>0.948919</td>\n",
       "      <td>Our operations are primarily based in the U.S....</td>\n",
       "    </tr>\n",
       "  </tbody>\n",
       "</table>\n",
       "</div>"
      ],
      "text/plain": [
       "                                 doc_id     score  \\\n",
       "0              BERKSHIRE HATHAWAY INC25  1.000000   \n",
       "1              BERKSHIRE HATHAWAY INC26  1.000000   \n",
       "2              BERKSHIRE HATHAWAY INC30  0.971426   \n",
       "3              BERKSHIRE HATHAWAY INC34  0.969590   \n",
       "4              BERKSHIRE HATHAWAY INC23  0.966374   \n",
       "5              BERKSHIRE HATHAWAY INC42  0.956096   \n",
       "6  APPLIED INDUSTRIAL TECHNOLOGIES IN12  0.953718   \n",
       "7              BERKSHIRE HATHAWAY INC47  0.951454   \n",
       "8              BERKSHIRE HATHAWAY INC24  0.949362   \n",
       "9   APPLIED INDUSTRIAL TECHNOLOGIES IN8  0.948919   \n",
       "\n",
       "                                                text  \n",
       "0  The Great Britain distribution companies consi...  \n",
       "1  Northern Natural, based in Nebraska, operates ...  \n",
       "2  The natural gas pipelines are subject to regul...  \n",
       "3  BHE and its energy subsidiaries continue to fo...  \n",
       "4  Berkshire currently has a 91.1% ownership inte...  \n",
       "5  Lubrizol operates its business on a global bas...  \n",
       "6  .  Our Fluid Power & Flow Control segment incl...  \n",
       "7  Industrial Products\\n supplies construction fa...  \n",
       "8  MidAmerican Energy Company (“MEC”) is a regula...  \n",
       "9  Our operations are primarily based in the U.S....  "
      ]
     },
     "execution_count": 16,
     "metadata": {},
     "output_type": "execute_result"
    }
   ],
   "source": [
    "from langchain_google_vertexai import VertexAIEmbeddings\n",
    "from langchain.text_splitter import CharacterTextSplitter\n",
    "from langchain.vectorstores import Neo4jVector\n",
    "from langchain.vectorstores.neo4j_vector import SearchType\n",
    "\n",
    "db = Neo4jVector.from_existing_index(\n",
    "    url = NEO4J_URI,\n",
    "    username = NEO4J_USERNAME,\n",
    "    password = NEO4J_PASSWORD,\n",
    "    embedding = VertexAIEmbeddings(model_name=EMBEDDING_MODEL),\n",
    "    index_name = 'document-embeddings',\n",
    "    keyword_index_name = 'doc_text',\n",
    "    search_type = SearchType.HYBRID # Hybrid search type\n",
    ")\n",
    "\n",
    "results = db.similarity_search_with_score(query, k=10)\n",
    "res_df = to_df(results)\n",
    "res_df"
   ]
  },
  {
   "cell_type": "markdown",
   "id": "daf3c617-4915-4357-999e-31c346031842",
   "metadata": {},
   "source": [
    "Lets re-rank our results for relevancy"
   ]
  },
  {
   "cell_type": "code",
   "execution_count": 17,
   "id": "ae38378f-8288-4481-94ba-2fb7fa5083a8",
   "metadata": {
    "tags": []
   },
   "outputs": [
    {
     "name": "stderr",
     "output_type": "stream",
     "text": [
      "/home/jupyter/.local/lib/python3.10/site-packages/transformers/tokenization_utils_base.py:1601: FutureWarning: `clean_up_tokenization_spaces` was not set. It will be set to `True` by default. This behavior will be depracted in transformers v4.45, and will be then set to `False` by default. For more details check this issue: https://github.com/huggingface/transformers/issues/31884\n",
      "  warnings.warn(\n"
     ]
    },
    {
     "name": "stdout",
     "output_type": "stream",
     "text": [
      "Top-10 Cross-Encoder Re-ranker hits\n",
      "\t-2.413\tBERKSHIRE HATHAWAY INC23\n",
      "\t-3.615\tBERKSHIRE HATHAWAY INC24\n",
      "\t-4.773\tBERKSHIRE HATHAWAY INC25\n",
      "\t-5.920\tBERKSHIRE HATHAWAY INC34\n",
      "\t-6.956\tAPPLIED INDUSTRIAL TECHNOLOGIES IN8\n",
      "\t-7.015\tBERKSHIRE HATHAWAY INC26\n",
      "\t-7.671\tBERKSHIRE HATHAWAY INC42\n",
      "\t-8.045\tBERKSHIRE HATHAWAY INC30\n",
      "\t-9.600\tBERKSHIRE HATHAWAY INC47\n",
      "\t-10.158\tAPPLIED INDUSTRIAL TECHNOLOGIES IN12\n"
     ]
    },
    {
     "data": {
      "text/html": [
       "<div>\n",
       "<style scoped>\n",
       "    .dataframe tbody tr th:only-of-type {\n",
       "        vertical-align: middle;\n",
       "    }\n",
       "\n",
       "    .dataframe tbody tr th {\n",
       "        vertical-align: top;\n",
       "    }\n",
       "\n",
       "    .dataframe thead th {\n",
       "        text-align: right;\n",
       "    }\n",
       "</style>\n",
       "<table border=\"1\" class=\"dataframe\">\n",
       "  <thead>\n",
       "    <tr style=\"text-align: right;\">\n",
       "      <th></th>\n",
       "      <th>doc_id</th>\n",
       "      <th>score</th>\n",
       "      <th>text</th>\n",
       "      <th>cross-score</th>\n",
       "    </tr>\n",
       "  </thead>\n",
       "  <tbody>\n",
       "    <tr>\n",
       "      <th>0</th>\n",
       "      <td>BERKSHIRE HATHAWAY INC23</td>\n",
       "      <td>0.966374</td>\n",
       "      <td>Berkshire currently has a 91.1% ownership inte...</td>\n",
       "      <td>-2.412768</td>\n",
       "    </tr>\n",
       "    <tr>\n",
       "      <th>1</th>\n",
       "      <td>BERKSHIRE HATHAWAY INC24</td>\n",
       "      <td>0.949362</td>\n",
       "      <td>MidAmerican Energy Company (“MEC”) is a regula...</td>\n",
       "      <td>-3.615499</td>\n",
       "    </tr>\n",
       "    <tr>\n",
       "      <th>2</th>\n",
       "      <td>BERKSHIRE HATHAWAY INC25</td>\n",
       "      <td>1.000000</td>\n",
       "      <td>The Great Britain distribution companies consi...</td>\n",
       "      <td>-4.772871</td>\n",
       "    </tr>\n",
       "    <tr>\n",
       "      <th>3</th>\n",
       "      <td>BERKSHIRE HATHAWAY INC34</td>\n",
       "      <td>0.969590</td>\n",
       "      <td>BHE and its energy subsidiaries continue to fo...</td>\n",
       "      <td>-5.920150</td>\n",
       "    </tr>\n",
       "    <tr>\n",
       "      <th>4</th>\n",
       "      <td>APPLIED INDUSTRIAL TECHNOLOGIES IN8</td>\n",
       "      <td>0.948919</td>\n",
       "      <td>Our operations are primarily based in the U.S....</td>\n",
       "      <td>-6.956180</td>\n",
       "    </tr>\n",
       "    <tr>\n",
       "      <th>5</th>\n",
       "      <td>BERKSHIRE HATHAWAY INC26</td>\n",
       "      <td>1.000000</td>\n",
       "      <td>Northern Natural, based in Nebraska, operates ...</td>\n",
       "      <td>-7.015030</td>\n",
       "    </tr>\n",
       "    <tr>\n",
       "      <th>6</th>\n",
       "      <td>BERKSHIRE HATHAWAY INC42</td>\n",
       "      <td>0.956096</td>\n",
       "      <td>Lubrizol operates its business on a global bas...</td>\n",
       "      <td>-7.670772</td>\n",
       "    </tr>\n",
       "    <tr>\n",
       "      <th>7</th>\n",
       "      <td>BERKSHIRE HATHAWAY INC30</td>\n",
       "      <td>0.971426</td>\n",
       "      <td>The natural gas pipelines are subject to regul...</td>\n",
       "      <td>-8.044989</td>\n",
       "    </tr>\n",
       "    <tr>\n",
       "      <th>8</th>\n",
       "      <td>BERKSHIRE HATHAWAY INC47</td>\n",
       "      <td>0.951454</td>\n",
       "      <td>Industrial Products\\n supplies construction fa...</td>\n",
       "      <td>-9.599635</td>\n",
       "    </tr>\n",
       "    <tr>\n",
       "      <th>9</th>\n",
       "      <td>APPLIED INDUSTRIAL TECHNOLOGIES IN12</td>\n",
       "      <td>0.953718</td>\n",
       "      <td>.  Our Fluid Power &amp; Flow Control segment incl...</td>\n",
       "      <td>-10.158342</td>\n",
       "    </tr>\n",
       "  </tbody>\n",
       "</table>\n",
       "</div>"
      ],
      "text/plain": [
       "                                 doc_id     score  \\\n",
       "0              BERKSHIRE HATHAWAY INC23  0.966374   \n",
       "1              BERKSHIRE HATHAWAY INC24  0.949362   \n",
       "2              BERKSHIRE HATHAWAY INC25  1.000000   \n",
       "3              BERKSHIRE HATHAWAY INC34  0.969590   \n",
       "4   APPLIED INDUSTRIAL TECHNOLOGIES IN8  0.948919   \n",
       "5              BERKSHIRE HATHAWAY INC26  1.000000   \n",
       "6              BERKSHIRE HATHAWAY INC42  0.956096   \n",
       "7              BERKSHIRE HATHAWAY INC30  0.971426   \n",
       "8              BERKSHIRE HATHAWAY INC47  0.951454   \n",
       "9  APPLIED INDUSTRIAL TECHNOLOGIES IN12  0.953718   \n",
       "\n",
       "                                                text  cross-score  \n",
       "0  Berkshire currently has a 91.1% ownership inte...    -2.412768  \n",
       "1  MidAmerican Energy Company (“MEC”) is a regula...    -3.615499  \n",
       "2  The Great Britain distribution companies consi...    -4.772871  \n",
       "3  BHE and its energy subsidiaries continue to fo...    -5.920150  \n",
       "4  Our operations are primarily based in the U.S....    -6.956180  \n",
       "5  Northern Natural, based in Nebraska, operates ...    -7.015030  \n",
       "6  Lubrizol operates its business on a global bas...    -7.670772  \n",
       "7  The natural gas pipelines are subject to regul...    -8.044989  \n",
       "8  Industrial Products\\n supplies construction fa...    -9.599635  \n",
       "9  .  Our Fluid Power & Flow Control segment incl...   -10.158342  "
      ]
     },
     "execution_count": 17,
     "metadata": {},
     "output_type": "execute_result"
    }
   ],
   "source": [
    "ranked_results = rerank_results(res_df)\n",
    "ranked_results"
   ]
  },
  {
   "cell_type": "code",
   "execution_count": 18,
   "id": "19387fbd-0144-49cf-928c-6c2c25a8caf3",
   "metadata": {
    "tags": []
   },
   "outputs": [
    {
     "data": {
      "text/plain": [
       "'Our operations are primarily based in the U.S. where 87% of our fiscal 2022 sales were generated.  We also have international operations, the largest of which is in Canada (7% of fiscal 2022 sales) with the balance (6% of fiscal 2022 sales) in Mexico, Australia, New Zealand, and Singapore. \\nSUPPLIERS\\nWe are a leading distributor of products including bearings, power transmission products, engineered fluid power components and systems, specialty flow control solutions, advanced automation products, industrial rubber products, linear motion components, tools, safety products, and other industrial and maintenance supplies.\\nThese products are generally supplied to us by manufacturers whom we serve as a non-exclusive distributor.  The suppliers also may provide us product training, as well as sales and marketing support.  Authorizations to represent particular suppliers and product lines vary by geographic region, particularly for our fluid power, flow control, and automation businesses.  We believe our supplier relationships are generally good, and many have existed for decades.  The disruption of relationships with certain suppliers, or the disruption of their operations, could adversely affect our business.\\nOur product suppliers typically confine their direct sales activities to large-volume transactions, mainly with large original equipment manufacturers.  The suppliers generally do not sell maintenance and repair products directly to the customer, but instead refer the customer to us or another distributor.\\nMARKETS \\nWe purchase from thousands of product manufacturers and resell the products to thousands of customers in a wide variety of industries, including agriculture and food processing, cement, chemicals and petrochemicals, fabricated metals, forest products, industrial machinery and equipment, life sciences, mining, oil and gas, primary metals, \\n4\\nTable of Contents'"
      ]
     },
     "execution_count": 18,
     "metadata": {},
     "output_type": "execute_result"
    }
   ],
   "source": [
    "ranked_results['text'][4]"
   ]
  },
  {
   "cell_type": "markdown",
   "id": "541c6aad-05b4-4391-9f27-b668a82ae910",
   "metadata": {},
   "source": [
    "We don't have much documents from other companies chunked. But once you have it, you can see additional results with Hybrid search. The re-ranker can then help rank these results accordingly. "
   ]
  },
  {
   "cell_type": "markdown",
   "id": "07198bd2-2a8d-432a-8d7d-94f617cc0969",
   "metadata": {},
   "source": [
    "## Semantic Search with Multi-hop retrieval using Knowledge Graph"
   ]
  },
  {
   "cell_type": "markdown",
   "id": "7502f4a3-5ca8-4771-b637-af58ea07f1ac",
   "metadata": {},
   "source": [
    "First, let's create a database connection."
   ]
  },
  {
   "cell_type": "code",
   "execution_count": 19,
   "id": "b8bbab47-d50a-4827-aeb4-42d4c9c612af",
   "metadata": {
    "tags": []
   },
   "outputs": [],
   "source": [
    "db = Neo4jVector(\n",
    "    url = NEO4J_URI,\n",
    "    username = NEO4J_USERNAME,\n",
    "    password = NEO4J_PASSWORD,\n",
    "    embedding = VertexAIEmbeddings(model_name=EMBEDDING_MODEL)\n",
    ")"
   ]
  },
  {
   "cell_type": "markdown",
   "id": "91518685-9430-4f52-8e6b-d7e4b61a7a25",
   "metadata": {},
   "source": [
    "Now let's use that query vector to search for companies.  Remember, companies have multiple documents so we will need to use a graph traversal on top of a document lookup to find which companies are most similar."
   ]
  },
  {
   "cell_type": "code",
   "execution_count": 20,
   "id": "f9428f7f-5aea-445d-a2ee-203c05a4d4f8",
   "metadata": {
    "tags": []
   },
   "outputs": [
    {
     "data": {
      "text/plain": [
       "[0.005244616884738207,\n",
       " -0.0270429328083992,\n",
       " -0.048955537378787994,\n",
       " -0.017425144091248512,\n",
       " 0.018080072477459908]"
      ]
     },
     "execution_count": 20,
     "metadata": {},
     "output_type": "execute_result"
    }
   ],
   "source": [
    "query_vector = db.embedding.embed_query(text=query)\n",
    "query_vector[0:5]"
   ]
  },
  {
   "cell_type": "code",
   "execution_count": 21,
   "id": "26e84306-7097-4ea7-ab34-166ef2421f2d",
   "metadata": {
    "tags": []
   },
   "outputs": [
    {
     "data": {
      "text/plain": [
       "[{'companyName': 'Berkshire Hathaway B', 'score': 0.7614296078681946},\n",
       " {'companyName': 'Applied Materials', 'score': 0.749306321144104}]"
      ]
     },
     "execution_count": 21,
     "metadata": {},
     "output_type": "execute_result"
    }
   ],
   "source": [
    "# Search for similar companies\n",
    "res_df = db.query(\"\"\"\n",
    "CALL db.index.vector.queryNodes('document-embeddings', 10, $queryVector)\n",
    "YIELD node AS similarDocuments, score\n",
    "\n",
    "MATCH (similarDocuments)<-[:HAS]-(c:Company)\n",
    "RETURN c.companyName as companyName, avg(score) AS score\n",
    "ORDER BY score DESC LIMIT 10\n",
    "\"\"\", params =  {'queryVector': query_vector})\n",
    "res_df"
   ]
  },
  {
   "cell_type": "markdown",
   "id": "085bb735-27de-4726-b23f-df0762ff28e6",
   "metadata": {},
   "source": [
    "The above result is based on the limited set of documents we have in the DB. The scores are based on Average similarity scores across chunks"
   ]
  },
  {
   "cell_type": "markdown",
   "id": "64e2d9f1-f2f6-4438-98ec-f04be86972c3",
   "metadata": {},
   "source": [
    "Now let's take this one step further and find investment managers who are most heavily focused in Energy.  This will involve a bit more Cypher for a 2-hop traversal. "
   ]
  },
  {
   "cell_type": "code",
   "execution_count": 22,
   "id": "c36b2196-554e-43ca-a52c-a3719d12c146",
   "metadata": {
    "tags": []
   },
   "outputs": [
    {
     "data": {
      "text/html": [
       "<div>\n",
       "<style scoped>\n",
       "    .dataframe tbody tr th:only-of-type {\n",
       "        vertical-align: middle;\n",
       "    }\n",
       "\n",
       "    .dataframe tbody tr th {\n",
       "        vertical-align: top;\n",
       "    }\n",
       "\n",
       "    .dataframe thead th {\n",
       "        text-align: right;\n",
       "    }\n",
       "</style>\n",
       "<table border=\"1\" class=\"dataframe\">\n",
       "  <thead>\n",
       "    <tr style=\"text-align: right;\">\n",
       "      <th></th>\n",
       "      <th>managerName</th>\n",
       "      <th>score</th>\n",
       "    </tr>\n",
       "  </thead>\n",
       "  <tbody>\n",
       "    <tr>\n",
       "      <th>0</th>\n",
       "      <td>Alley Investment Management Company, LLC</td>\n",
       "      <td>0.706942</td>\n",
       "    </tr>\n",
       "    <tr>\n",
       "      <th>1</th>\n",
       "      <td>SAYBROOK CAPITAL /NC</td>\n",
       "      <td>0.706942</td>\n",
       "    </tr>\n",
       "    <tr>\n",
       "      <th>2</th>\n",
       "      <td>STALEY CAPITAL ADVISERS INC</td>\n",
       "      <td>0.706942</td>\n",
       "    </tr>\n",
       "    <tr>\n",
       "      <th>3</th>\n",
       "      <td>Keeley-Teton Advisors, LLC</td>\n",
       "      <td>0.706942</td>\n",
       "    </tr>\n",
       "    <tr>\n",
       "      <th>4</th>\n",
       "      <td>MENLO ADVISORS LLC</td>\n",
       "      <td>0.706942</td>\n",
       "    </tr>\n",
       "    <tr>\n",
       "      <th>...</th>\n",
       "      <td>...</td>\n",
       "      <td>...</td>\n",
       "    </tr>\n",
       "    <tr>\n",
       "      <th>995</th>\n",
       "      <td>Global Trust Asset Management, LLC</td>\n",
       "      <td>0.684052</td>\n",
       "    </tr>\n",
       "    <tr>\n",
       "      <th>996</th>\n",
       "      <td>FinTrust Capital Advisors, LLC</td>\n",
       "      <td>0.684052</td>\n",
       "    </tr>\n",
       "    <tr>\n",
       "      <th>997</th>\n",
       "      <td>Financial Council Asset Management Inc</td>\n",
       "      <td>0.684052</td>\n",
       "    </tr>\n",
       "    <tr>\n",
       "      <th>998</th>\n",
       "      <td>Naviter Wealth, LLC</td>\n",
       "      <td>0.684052</td>\n",
       "    </tr>\n",
       "    <tr>\n",
       "      <th>999</th>\n",
       "      <td>MCINTYRE FREEDMAN &amp; FLYNN INVESTMENT ADVISERS INC</td>\n",
       "      <td>0.684052</td>\n",
       "    </tr>\n",
       "  </tbody>\n",
       "</table>\n",
       "<p>1000 rows × 2 columns</p>\n",
       "</div>"
      ],
      "text/plain": [
       "                                           managerName     score\n",
       "0             Alley Investment Management Company, LLC  0.706942\n",
       "1                                 SAYBROOK CAPITAL /NC  0.706942\n",
       "2                          STALEY CAPITAL ADVISERS INC  0.706942\n",
       "3                           Keeley-Teton Advisors, LLC  0.706942\n",
       "4                                   MENLO ADVISORS LLC  0.706942\n",
       "..                                                 ...       ...\n",
       "995                 Global Trust Asset Management, LLC  0.684052\n",
       "996                     FinTrust Capital Advisors, LLC  0.684052\n",
       "997             Financial Council Asset Management Inc  0.684052\n",
       "998                                Naviter Wealth, LLC  0.684052\n",
       "999  MCINTYRE FREEDMAN & FLYNN INVESTMENT ADVISERS INC  0.684052\n",
       "\n",
       "[1000 rows x 2 columns]"
      ]
     },
     "execution_count": 22,
     "metadata": {},
     "output_type": "execute_result"
    }
   ],
   "source": [
    "# Search for managers with significiant investments in area\n",
    "res_df = gds.run_cypher(\"\"\"\n",
    "CALL db.index.vector.queryNodes('document-embeddings', 1000, $queryVector)\n",
    "YIELD node AS similarDocuments, score\n",
    "MATCH (similarDocuments)<-[:HAS]-(c:Company)\n",
    "WITH c, avg(score) AS score ORDER BY score LIMIT 100\n",
    "MATCH (c)<-[r:OWNS]-(m:Manager)\n",
    "WITH m, r.value as value, score*r.value as weightedScore\n",
    "WITH m.managerName AS managerName, sum(weightedScore) AS aggScore, sum(value) AS aggValue\n",
    "RETURN managerName, aggScore/aggValue AS score ORDER BY score DESC LIMIT 1000\n",
    "\n",
    "\"\"\", params =  {'queryVector': query_vector})\n",
    "res_df"
   ]
  },
  {
   "cell_type": "markdown",
   "id": "458e5b2c-8bf6-4755-8e3c-9eaf06bc4096",
   "metadata": {},
   "source": [
    "And we can see that our top result is:"
   ]
  },
  {
   "cell_type": "code",
   "execution_count": 23,
   "id": "20f01f64-f15a-4181-9ec3-2adb326e239d",
   "metadata": {
    "tags": []
   },
   "outputs": [
    {
     "data": {
      "text/plain": [
       "'Alley Investment Management Company, LLC'"
      ]
     },
     "execution_count": 23,
     "metadata": {},
     "output_type": "execute_result"
    }
   ],
   "source": [
    "top_manager = res_df['managerName'][0]\n",
    "top_manager"
   ]
  },
  {
   "cell_type": "markdown",
   "id": "930804d4-d3ec-48a7-b8c6-92ab8a64ef04",
   "metadata": {},
   "source": [
    "## Expanding Available Data for Knowledge Retrieval\n",
    "Not every element in your data will have rich text data, and further, much like we only have 10K documents for some companies, your use cases may also have incomplete, unevenly distributed text data. \n",
    "\n",
    "We can check our top result investment manager to this. "
   ]
  },
  {
   "cell_type": "code",
   "execution_count": 24,
   "id": "10aefd2b-4100-4be3-a985-1ceabcd2c8ca",
   "metadata": {
    "tags": []
   },
   "outputs": [
    {
     "data": {
      "text/html": [
       "<div>\n",
       "<style scoped>\n",
       "    .dataframe tbody tr th:only-of-type {\n",
       "        vertical-align: middle;\n",
       "    }\n",
       "\n",
       "    .dataframe tbody tr th {\n",
       "        vertical-align: top;\n",
       "    }\n",
       "\n",
       "    .dataframe thead th {\n",
       "        text-align: right;\n",
       "    }\n",
       "</style>\n",
       "<table border=\"1\" class=\"dataframe\">\n",
       "  <thead>\n",
       "    <tr style=\"text-align: right;\">\n",
       "      <th></th>\n",
       "      <th>managerName</th>\n",
       "      <th>ownedCompaniesWithDocs</th>\n",
       "      <th>totalOwnedCompanies</th>\n",
       "    </tr>\n",
       "  </thead>\n",
       "  <tbody>\n",
       "    <tr>\n",
       "      <th>0</th>\n",
       "      <td>Alley Investment Management Company, LLC</td>\n",
       "      <td>1</td>\n",
       "      <td>81</td>\n",
       "    </tr>\n",
       "  </tbody>\n",
       "</table>\n",
       "</div>"
      ],
      "text/plain": [
       "                                managerName  ownedCompaniesWithDocs  \\\n",
       "0  Alley Investment Management Company, LLC                       1   \n",
       "\n",
       "   totalOwnedCompanies  \n",
       "0                   81  "
      ]
     },
     "execution_count": 24,
     "metadata": {},
     "output_type": "execute_result"
    }
   ],
   "source": [
    "gds.run_cypher('''\n",
    "MATCH (m:Manager {managerName: $managerName})-[:OWNS]->(c:Company)-[:HAS]->(d:Document)\n",
    "WITH m, count(DISTINCT c) AS ownedCompaniesWithDocs\n",
    "MATCH (m:Manager {managerName: $managerName})-[:OWNS]->(c:Company)\n",
    "RETURN m.managerName AS managerName, ownedCompaniesWithDocs, count(DISTINCT c) AS totalOwnedCompanies\n",
    "''', params =  {'managerName':top_manager})"
   ]
  },
  {
   "cell_type": "markdown",
   "id": "532553dd-682e-45cf-96d8-7cecf58068a2",
   "metadata": {},
   "source": [
    "This manager has significantly more other companies they own without documents.  We can use Graph Data Science Node Similarity to find the managers that have the most overlap to this one which should give us other Energy companies that we missed due to sparse text data."
   ]
  },
  {
   "cell_type": "code",
   "execution_count": 25,
   "id": "252ff6a0-eae7-4dcc-aa39-fbb7a37b1114",
   "metadata": {
    "tags": []
   },
   "outputs": [
    {
     "data": {
      "application/json": {
       "ascii": false,
       "bar_format": null,
       "colour": null,
       "elapsed": 0.038362979888916016,
       "initial": 0,
       "n": 0,
       "ncols": null,
       "nrows": null,
       "postfix": null,
       "prefix": "Loading",
       "rate": null,
       "total": 100,
       "unit": "%",
       "unit_divisor": 1000,
       "unit_scale": false
      },
      "application/vnd.jupyter.widget-view+json": {
       "model_id": "091c36c220714fefadab9c1359da17c9",
       "version_major": 2,
       "version_minor": 0
      },
      "text/plain": [
       "Loading:   0%|          | 0/100 [00:00<?, ?%/s]"
      ]
     },
     "metadata": {},
     "output_type": "display_data"
    }
   ],
   "source": [
    "g, _ = gds.graph.project('proj', ['Company', 'Manager'], {'OWNS':{'properties':['value']}})"
   ]
  },
  {
   "cell_type": "code",
   "execution_count": 26,
   "id": "23119a94-d0d0-4c60-b319-f2d94805a144",
   "metadata": {
    "tags": []
   },
   "outputs": [
    {
     "data": {
      "application/json": {
       "ascii": false,
       "bar_format": null,
       "colour": null,
       "elapsed": 0.013571739196777344,
       "initial": 0,
       "n": 0,
       "ncols": null,
       "nrows": null,
       "postfix": null,
       "prefix": "Node Similarity",
       "rate": null,
       "total": 100,
       "unit": "%",
       "unit_divisor": 1000,
       "unit_scale": false
      },
      "application/vnd.jupyter.widget-view+json": {
       "model_id": "bd75276011914b8e97a173e29beb574b",
       "version_major": 2,
       "version_minor": 0
      },
      "text/plain": [
       "Node Similarity:   0%|          | 0/100 [00:00<?, ?%/s]"
      ]
     },
     "metadata": {},
     "output_type": "display_data"
    },
    {
     "data": {
      "text/plain": [
       "preProcessingMillis                                                       3\n",
       "computeMillis                                                          7616\n",
       "writeMillis                                                             601\n",
       "postProcessingMillis                                                      0\n",
       "nodesCompared                                                          5418\n",
       "relationshipsWritten                                                  49978\n",
       "similarityDistribution    {'min': 0.19999980926513672, 'p5': 0.247662544...\n",
       "configuration             {'writeProperty': 'score', 'writeRelationshipT...\n",
       "Name: 0, dtype: object"
      ]
     },
     "execution_count": 26,
     "metadata": {},
     "output_type": "execute_result"
    }
   ],
   "source": [
    "gds.nodeSimilarity.write(g, writeRelationshipType = 'SIMILAR', \n",
    "                                  writeProperty = 'score', relationshipWeightProperty = 'value',\n",
    "                                  similarityMetric = 'COSINE',\n",
    "                                 similarityCutoff = 0.2, degreeCutoff = 4)"
   ]
  },
  {
   "cell_type": "code",
   "execution_count": 27,
   "id": "acd39e18-fc3d-4734-bbe8-e1862516fc29",
   "metadata": {
    "tags": []
   },
   "outputs": [
    {
     "data": {
      "text/plain": [
       "graphName                                                             proj\n",
       "database                                                             neo4j\n",
       "databaseLocation                                                     local\n",
       "memoryUsage                                                               \n",
       "sizeInBytes                                                             -1\n",
       "nodeCount                                                            21871\n",
       "relationshipCount                                                  1600580\n",
       "configuration            {'relationshipProjection': {'OWNS': {'aggregat...\n",
       "density                                                           0.003346\n",
       "creationTime                           2024-09-12T07:47:16.311362783+00:00\n",
       "modificationTime                       2024-09-12T07:47:18.349305851+00:00\n",
       "schema                   {'graphProperties': {}, 'nodes': {'Manager': {...\n",
       "schemaWithOrientation    {'graphProperties': {}, 'nodes': {'Manager': {...\n",
       "Name: 0, dtype: object"
      ]
     },
     "execution_count": 27,
     "metadata": {},
     "output_type": "execute_result"
    }
   ],
   "source": [
    "g.drop()"
   ]
  },
  {
   "cell_type": "markdown",
   "id": "addcf2b2-a3b3-41a2-bc5d-d9630b0689cb",
   "metadata": {},
   "source": [
    "And now we can pull back other relevant results"
   ]
  },
  {
   "cell_type": "code",
   "execution_count": 28,
   "id": "5ec2ed6f-6d34-414f-82b3-9cf28602d4e0",
   "metadata": {
    "tags": []
   },
   "outputs": [
    {
     "data": {
      "text/html": [
       "<div>\n",
       "<style scoped>\n",
       "    .dataframe tbody tr th:only-of-type {\n",
       "        vertical-align: middle;\n",
       "    }\n",
       "\n",
       "    .dataframe tbody tr th {\n",
       "        vertical-align: top;\n",
       "    }\n",
       "\n",
       "    .dataframe thead th {\n",
       "        text-align: right;\n",
       "    }\n",
       "</style>\n",
       "<table border=\"1\" class=\"dataframe\">\n",
       "  <thead>\n",
       "    <tr style=\"text-align: right;\">\n",
       "      <th></th>\n",
       "      <th>managerName</th>\n",
       "      <th>score</th>\n",
       "    </tr>\n",
       "  </thead>\n",
       "  <tbody>\n",
       "    <tr>\n",
       "      <th>0</th>\n",
       "      <td>BMS Financial Advisors, LLC</td>\n",
       "      <td>0.303577</td>\n",
       "    </tr>\n",
       "    <tr>\n",
       "      <th>1</th>\n",
       "      <td>MONOGRAPH WEALTH ADVISORS, LLC</td>\n",
       "      <td>0.275661</td>\n",
       "    </tr>\n",
       "    <tr>\n",
       "      <th>2</th>\n",
       "      <td>Pinnacle Wealth Management Advisory Group, LLC</td>\n",
       "      <td>0.272319</td>\n",
       "    </tr>\n",
       "    <tr>\n",
       "      <th>3</th>\n",
       "      <td>CONCENTRIC WEALTH MANAGEMENT, LLC</td>\n",
       "      <td>0.271114</td>\n",
       "    </tr>\n",
       "    <tr>\n",
       "      <th>4</th>\n",
       "      <td>Decatur Capital Management, Inc.</td>\n",
       "      <td>0.260563</td>\n",
       "    </tr>\n",
       "    <tr>\n",
       "      <th>5</th>\n",
       "      <td>Fragasso Group Inc.</td>\n",
       "      <td>0.258156</td>\n",
       "    </tr>\n",
       "    <tr>\n",
       "      <th>6</th>\n",
       "      <td>Chicago Capital, LLC</td>\n",
       "      <td>0.255217</td>\n",
       "    </tr>\n",
       "    <tr>\n",
       "      <th>7</th>\n",
       "      <td>DAVIS R M INC</td>\n",
       "      <td>0.254797</td>\n",
       "    </tr>\n",
       "    <tr>\n",
       "      <th>8</th>\n",
       "      <td>NATIXIS ADVISORS, L.P.</td>\n",
       "      <td>0.251811</td>\n",
       "    </tr>\n",
       "    <tr>\n",
       "      <th>9</th>\n",
       "      <td>BARCLAYS PLC</td>\n",
       "      <td>0.249026</td>\n",
       "    </tr>\n",
       "  </tbody>\n",
       "</table>\n",
       "</div>"
      ],
      "text/plain": [
       "                                      managerName     score\n",
       "0                     BMS Financial Advisors, LLC  0.303577\n",
       "1                  MONOGRAPH WEALTH ADVISORS, LLC  0.275661\n",
       "2  Pinnacle Wealth Management Advisory Group, LLC  0.272319\n",
       "3               CONCENTRIC WEALTH MANAGEMENT, LLC  0.271114\n",
       "4                Decatur Capital Management, Inc.  0.260563\n",
       "5                             Fragasso Group Inc.  0.258156\n",
       "6                            Chicago Capital, LLC  0.255217\n",
       "7                                   DAVIS R M INC  0.254797\n",
       "8                          NATIXIS ADVISORS, L.P.  0.251811\n",
       "9                                    BARCLAYS PLC  0.249026"
      ]
     },
     "execution_count": 28,
     "metadata": {},
     "output_type": "execute_result"
    }
   ],
   "source": [
    "gds.run_cypher('''\n",
    "MATCH (m0:Manager {managerName: $managerName})-[r:SIMILAR]->(m:Manager)\n",
    "WHERE r.score IS NOT NULL\n",
    "RETURN DISTINCT m.managerName AS managerName, r.score AS score\n",
    "ORDER BY score DESC LIMIT 10\n",
    "''', params =  {'managerName':top_manager})"
   ]
  },
  {
   "cell_type": "markdown",
   "id": "3a0a43fc-72c5-4a40-914f-01e7f3001c56",
   "metadata": {},
   "source": [
    "## Clean Up"
   ]
  },
  {
   "cell_type": "code",
   "execution_count": null,
   "id": "0f548f8e-e48f-4d5f-b2fd-2251280fc8f9",
   "metadata": {
    "tags": []
   },
   "outputs": [],
   "source": [
    "gds.run_cypher('MATCH (M:Manager)-[s:SIMILAR]->() DELETE s')"
   ]
  },
  {
   "cell_type": "code",
   "execution_count": null,
   "id": "e200be03-e04d-40de-93db-b3abf6b6a98f",
   "metadata": {},
   "outputs": [],
   "source": []
  }
 ],
 "metadata": {
  "environment": {
   "kernel": "conda-base-py",
   "name": "workbench-notebooks.m124",
   "type": "gcloud",
   "uri": "us-docker.pkg.dev/deeplearning-platform-release/gcr.io/workbench-notebooks:m124"
  },
  "kernelspec": {
   "display_name": "Python 3 (ipykernel) (Local)",
   "language": "python",
   "name": "conda-base-py"
  },
  "language_info": {
   "codemirror_mode": {
    "name": "ipython",
    "version": 3
   },
   "file_extension": ".py",
   "mimetype": "text/x-python",
   "name": "python",
   "nbconvert_exporter": "python",
   "pygments_lexer": "ipython3",
   "version": "3.10.14"
  }
 },
 "nbformat": 4,
 "nbformat_minor": 5
}
